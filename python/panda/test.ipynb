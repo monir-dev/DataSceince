{
 "nbformat": 4,
 "nbformat_minor": 2,
 "metadata": {
  "language_info": {
   "name": "python",
   "codemirror_mode": {
    "name": "ipython",
    "version": 3
   },
   "version": "3.7.4"
  },
  "orig_nbformat": 2,
  "file_extension": ".py",
  "mimetype": "text/x-python",
  "name": "python",
  "npconvert_exporter": "python",
  "pygments_lexer": "ipython3",
  "version": 3
 },
 "cells": [
  {
   "cell_type": "code",
   "execution_count": 56,
   "metadata": {},
   "outputs": [
    {
     "data": {
      "text/plain": "0        50.12\n1        54.10\n2        54.65\n3        52.38\n4        52.95\n         ...  \n3007    772.88\n3008    771.07\n3009    773.18\n3010    771.61\n3011    782.22\nName: Stock Price, Length: 3012, dtype: float64"
     },
     "execution_count": 56,
     "metadata": {},
     "output_type": "execute_result"
    }
   ],
   "source": [
    "import pandas as pd\n",
    "google = pd.read_csv(\"data-sources/google_stock_price.csv\", squeeze= True)\n",
    "google\n",
    "\n"
   ]
  },
  {
   "cell_type": "code",
   "execution_count": 57,
   "metadata": {},
   "outputs": [
    {
     "data": {
      "text/plain": "0    50.12\n1    54.10\n2    54.65\n3    52.38\n4    52.95\nName: Stock Price, dtype: float64"
     },
     "execution_count": 57,
     "metadata": {},
     "output_type": "execute_result"
    }
   ],
   "source": [
    "google.head()\n"
   ]
  },
  {
   "cell_type": "code",
   "execution_count": 58,
   "metadata": {},
   "outputs": [
    {
     "data": {
      "text/plain": "3007    772.88\n3008    771.07\n3009    773.18\n3010    771.61\n3011    782.22\nName: Stock Price, dtype: float64"
     },
     "execution_count": 58,
     "metadata": {},
     "output_type": "execute_result"
    }
   ],
   "source": [
    "google.tail()"
   ]
  },
  {
   "cell_type": "code",
   "execution_count": 59,
   "metadata": {},
   "outputs": [
    {
     "data": {
      "text/html": "<div>\n<style scoped>\n    .dataframe tbody tr th:only-of-type {\n        vertical-align: middle;\n    }\n\n    .dataframe tbody tr th {\n        vertical-align: top;\n    }\n\n    .dataframe thead th {\n        text-align: right;\n    }\n</style>\n<table border=\"1\" class=\"dataframe\">\n  <thead>\n    <tr style=\"text-align: right;\">\n      <th></th>\n      <th>order_id</th>\n      <th>quantity</th>\n      <th>item_name</th>\n      <th>choice_description</th>\n      <th>item_price</th>\n    </tr>\n  </thead>\n  <tbody>\n    <tr>\n      <td>0</td>\n      <td>1</td>\n      <td>1</td>\n      <td>Chips and Fresh Tomato Salsa</td>\n      <td>NaN</td>\n      <td>$2.39</td>\n    </tr>\n    <tr>\n      <td>1</td>\n      <td>1</td>\n      <td>1</td>\n      <td>Izze</td>\n      <td>[Clementine]</td>\n      <td>$3.39</td>\n    </tr>\n    <tr>\n      <td>2</td>\n      <td>1</td>\n      <td>1</td>\n      <td>Nantucket Nectar</td>\n      <td>[Apple]</td>\n      <td>$3.39</td>\n    </tr>\n    <tr>\n      <td>3</td>\n      <td>1</td>\n      <td>1</td>\n      <td>Chips and Tomatillo-Green Chili Salsa</td>\n      <td>NaN</td>\n      <td>$2.39</td>\n    </tr>\n    <tr>\n      <td>4</td>\n      <td>2</td>\n      <td>2</td>\n      <td>Chicken Bowl</td>\n      <td>[Tomatillo-Red Chili Salsa (Hot), [Black Beans...</td>\n      <td>$16.98</td>\n    </tr>\n    <tr>\n      <td>...</td>\n      <td>...</td>\n      <td>...</td>\n      <td>...</td>\n      <td>...</td>\n      <td>...</td>\n    </tr>\n    <tr>\n      <td>4617</td>\n      <td>1833</td>\n      <td>1</td>\n      <td>Steak Burrito</td>\n      <td>[Fresh Tomato Salsa, [Rice, Black Beans, Sour ...</td>\n      <td>$11.75</td>\n    </tr>\n    <tr>\n      <td>4618</td>\n      <td>1833</td>\n      <td>1</td>\n      <td>Steak Burrito</td>\n      <td>[Fresh Tomato Salsa, [Rice, Sour Cream, Cheese...</td>\n      <td>$11.75</td>\n    </tr>\n    <tr>\n      <td>4619</td>\n      <td>1834</td>\n      <td>1</td>\n      <td>Chicken Salad Bowl</td>\n      <td>[Fresh Tomato Salsa, [Fajita Vegetables, Pinto...</td>\n      <td>$11.25</td>\n    </tr>\n    <tr>\n      <td>4620</td>\n      <td>1834</td>\n      <td>1</td>\n      <td>Chicken Salad Bowl</td>\n      <td>[Fresh Tomato Salsa, [Fajita Vegetables, Lettu...</td>\n      <td>$8.75</td>\n    </tr>\n    <tr>\n      <td>4621</td>\n      <td>1834</td>\n      <td>1</td>\n      <td>Chicken Salad Bowl</td>\n      <td>[Fresh Tomato Salsa, [Fajita Vegetables, Pinto...</td>\n      <td>$8.75</td>\n    </tr>\n  </tbody>\n</table>\n<p>4622 rows × 5 columns</p>\n</div>",
      "text/plain": "      order_id  quantity                              item_name  \\\n0            1         1           Chips and Fresh Tomato Salsa   \n1            1         1                                   Izze   \n2            1         1                       Nantucket Nectar   \n3            1         1  Chips and Tomatillo-Green Chili Salsa   \n4            2         2                           Chicken Bowl   \n...        ...       ...                                    ...   \n4617      1833         1                          Steak Burrito   \n4618      1833         1                          Steak Burrito   \n4619      1834         1                     Chicken Salad Bowl   \n4620      1834         1                     Chicken Salad Bowl   \n4621      1834         1                     Chicken Salad Bowl   \n\n                                     choice_description item_price  \n0                                                   NaN     $2.39   \n1                                          [Clementine]     $3.39   \n2                                               [Apple]     $3.39   \n3                                                   NaN     $2.39   \n4     [Tomatillo-Red Chili Salsa (Hot), [Black Beans...    $16.98   \n...                                                 ...        ...  \n4617  [Fresh Tomato Salsa, [Rice, Black Beans, Sour ...    $11.75   \n4618  [Fresh Tomato Salsa, [Rice, Sour Cream, Cheese...    $11.75   \n4619  [Fresh Tomato Salsa, [Fajita Vegetables, Pinto...    $11.25   \n4620  [Fresh Tomato Salsa, [Fajita Vegetables, Lettu...     $8.75   \n4621  [Fresh Tomato Salsa, [Fajita Vegetables, Pinto...     $8.75   \n\n[4622 rows x 5 columns]"
     },
     "execution_count": 59,
     "metadata": {},
     "output_type": "execute_result"
    }
   ],
   "source": [
    "chiporders = pd.read_table(\"http://bit.ly/chiporders\")\n",
    "chiporders"
   ]
  },
  {
   "cell_type": "code",
   "execution_count": 60,
   "metadata": {},
   "outputs": [
    {
     "data": {
      "text/html": "<div>\n<style scoped>\n    .dataframe tbody tr th:only-of-type {\n        vertical-align: middle;\n    }\n\n    .dataframe tbody tr th {\n        vertical-align: top;\n    }\n\n    .dataframe thead th {\n        text-align: right;\n    }\n</style>\n<table border=\"1\" class=\"dataframe\">\n  <thead>\n    <tr style=\"text-align: right;\">\n      <th></th>\n      <th>order_id</th>\n      <th>quantity</th>\n      <th>item_name</th>\n      <th>choice_description</th>\n      <th>item_price</th>\n    </tr>\n  </thead>\n  <tbody>\n    <tr>\n      <td>0</td>\n      <td>1</td>\n      <td>1</td>\n      <td>Chips and Fresh Tomato Salsa</td>\n      <td>NaN</td>\n      <td>$2.39</td>\n    </tr>\n    <tr>\n      <td>1</td>\n      <td>1</td>\n      <td>1</td>\n      <td>Izze</td>\n      <td>[Clementine]</td>\n      <td>$3.39</td>\n    </tr>\n    <tr>\n      <td>2</td>\n      <td>1</td>\n      <td>1</td>\n      <td>Nantucket Nectar</td>\n      <td>[Apple]</td>\n      <td>$3.39</td>\n    </tr>\n    <tr>\n      <td>3</td>\n      <td>1</td>\n      <td>1</td>\n      <td>Chips and Tomatillo-Green Chili Salsa</td>\n      <td>NaN</td>\n      <td>$2.39</td>\n    </tr>\n    <tr>\n      <td>4</td>\n      <td>2</td>\n      <td>2</td>\n      <td>Chicken Bowl</td>\n      <td>[Tomatillo-Red Chili Salsa (Hot), [Black Beans...</td>\n      <td>$16.98</td>\n    </tr>\n  </tbody>\n</table>\n</div>",
      "text/plain": "   order_id  quantity                              item_name  \\\n0         1         1           Chips and Fresh Tomato Salsa   \n1         1         1                                   Izze   \n2         1         1                       Nantucket Nectar   \n3         1         1  Chips and Tomatillo-Green Chili Salsa   \n4         2         2                           Chicken Bowl   \n\n                                  choice_description item_price  \n0                                                NaN     $2.39   \n1                                       [Clementine]     $3.39   \n2                                            [Apple]     $3.39   \n3                                                NaN     $2.39   \n4  [Tomatillo-Red Chili Salsa (Hot), [Black Beans...    $16.98   "
     },
     "execution_count": 60,
     "metadata": {},
     "output_type": "execute_result"
    }
   ],
   "source": [
    "chiporders.head()"
   ]
  },
  {
   "cell_type": "code",
   "execution_count": 61,
   "metadata": {},
   "outputs": [
    {
     "data": {
      "text/html": "<div>\n<style scoped>\n    .dataframe tbody tr th:only-of-type {\n        vertical-align: middle;\n    }\n\n    .dataframe tbody tr th {\n        vertical-align: top;\n    }\n\n    .dataframe thead th {\n        text-align: right;\n    }\n</style>\n<table border=\"1\" class=\"dataframe\">\n  <thead>\n    <tr style=\"text-align: right;\">\n      <th></th>\n      <th>user_id</th>\n      <th>age</th>\n      <th>gender</th>\n      <th>occupation</th>\n      <th>zip_code</th>\n    </tr>\n  </thead>\n  <tbody>\n    <tr>\n      <td>0</td>\n      <td>1</td>\n      <td>24</td>\n      <td>M</td>\n      <td>technician</td>\n      <td>85711</td>\n    </tr>\n    <tr>\n      <td>1</td>\n      <td>2</td>\n      <td>53</td>\n      <td>F</td>\n      <td>other</td>\n      <td>94043</td>\n    </tr>\n    <tr>\n      <td>2</td>\n      <td>3</td>\n      <td>23</td>\n      <td>M</td>\n      <td>writer</td>\n      <td>32067</td>\n    </tr>\n    <tr>\n      <td>3</td>\n      <td>4</td>\n      <td>24</td>\n      <td>M</td>\n      <td>technician</td>\n      <td>43537</td>\n    </tr>\n    <tr>\n      <td>4</td>\n      <td>5</td>\n      <td>33</td>\n      <td>F</td>\n      <td>other</td>\n      <td>15213</td>\n    </tr>\n    <tr>\n      <td>...</td>\n      <td>...</td>\n      <td>...</td>\n      <td>...</td>\n      <td>...</td>\n      <td>...</td>\n    </tr>\n    <tr>\n      <td>938</td>\n      <td>939</td>\n      <td>26</td>\n      <td>F</td>\n      <td>student</td>\n      <td>33319</td>\n    </tr>\n    <tr>\n      <td>939</td>\n      <td>940</td>\n      <td>32</td>\n      <td>M</td>\n      <td>administrator</td>\n      <td>02215</td>\n    </tr>\n    <tr>\n      <td>940</td>\n      <td>941</td>\n      <td>20</td>\n      <td>M</td>\n      <td>student</td>\n      <td>97229</td>\n    </tr>\n    <tr>\n      <td>941</td>\n      <td>942</td>\n      <td>48</td>\n      <td>F</td>\n      <td>librarian</td>\n      <td>78209</td>\n    </tr>\n    <tr>\n      <td>942</td>\n      <td>943</td>\n      <td>22</td>\n      <td>M</td>\n      <td>student</td>\n      <td>77841</td>\n    </tr>\n  </tbody>\n</table>\n<p>943 rows × 5 columns</p>\n</div>",
      "text/plain": "     user_id  age gender     occupation zip_code\n0          1   24      M     technician    85711\n1          2   53      F          other    94043\n2          3   23      M         writer    32067\n3          4   24      M     technician    43537\n4          5   33      F          other    15213\n..       ...  ...    ...            ...      ...\n938      939   26      F        student    33319\n939      940   32      M  administrator    02215\n940      941   20      M        student    97229\n941      942   48      F      librarian    78209\n942      943   22      M        student    77841\n\n[943 rows x 5 columns]"
     },
     "execution_count": 61,
     "metadata": {},
     "output_type": "execute_result"
    }
   ],
   "source": [
    "users = pd.read_table('http://bit.ly/movieusers', sep='|', header=None, names=['user_id', 'age', 'gender', 'occupation', 'zip_code'])\n",
    "users"
   ]
  },
  {
   "cell_type": "code",
   "execution_count": 62,
   "metadata": {},
   "outputs": [
    {
     "data": {
      "text/html": "<div>\n<style scoped>\n    .dataframe tbody tr th:only-of-type {\n        vertical-align: middle;\n    }\n\n    .dataframe tbody tr th {\n        vertical-align: top;\n    }\n\n    .dataframe thead th {\n        text-align: right;\n    }\n</style>\n<table border=\"1\" class=\"dataframe\">\n  <thead>\n    <tr style=\"text-align: right;\">\n      <th></th>\n      <th>user_id</th>\n      <th>age</th>\n      <th>gender</th>\n      <th>occupation</th>\n      <th>zip_code</th>\n    </tr>\n  </thead>\n  <tbody>\n    <tr>\n      <td>0</td>\n      <td>1</td>\n      <td>24</td>\n      <td>M</td>\n      <td>technician</td>\n      <td>85711</td>\n    </tr>\n    <tr>\n      <td>1</td>\n      <td>2</td>\n      <td>53</td>\n      <td>F</td>\n      <td>other</td>\n      <td>94043</td>\n    </tr>\n    <tr>\n      <td>2</td>\n      <td>3</td>\n      <td>23</td>\n      <td>M</td>\n      <td>writer</td>\n      <td>32067</td>\n    </tr>\n    <tr>\n      <td>3</td>\n      <td>4</td>\n      <td>24</td>\n      <td>M</td>\n      <td>technician</td>\n      <td>43537</td>\n    </tr>\n    <tr>\n      <td>4</td>\n      <td>5</td>\n      <td>33</td>\n      <td>F</td>\n      <td>other</td>\n      <td>15213</td>\n    </tr>\n  </tbody>\n</table>\n</div>",
      "text/plain": "   user_id  age gender  occupation zip_code\n0        1   24      M  technician    85711\n1        2   53      F       other    94043\n2        3   23      M      writer    32067\n3        4   24      M  technician    43537\n4        5   33      F       other    15213"
     },
     "execution_count": 62,
     "metadata": {},
     "output_type": "execute_result"
    }
   ],
   "source": [
    "users.head()"
   ]
  },
  {
   "cell_type": "code",
   "execution_count": 63,
   "metadata": {},
   "outputs": [
    {
     "data": {
      "text/html": "<div>\n<style scoped>\n    .dataframe tbody tr th:only-of-type {\n        vertical-align: middle;\n    }\n\n    .dataframe tbody tr th {\n        vertical-align: top;\n    }\n\n    .dataframe thead th {\n        text-align: right;\n    }\n</style>\n<table border=\"1\" class=\"dataframe\">\n  <thead>\n    <tr style=\"text-align: right;\">\n      <th></th>\n      <th>user_id</th>\n      <th>age</th>\n      <th>gender</th>\n      <th>occupation</th>\n      <th>zip_code</th>\n    </tr>\n  </thead>\n  <tbody>\n    <tr>\n      <td>938</td>\n      <td>939</td>\n      <td>26</td>\n      <td>F</td>\n      <td>student</td>\n      <td>33319</td>\n    </tr>\n    <tr>\n      <td>939</td>\n      <td>940</td>\n      <td>32</td>\n      <td>M</td>\n      <td>administrator</td>\n      <td>02215</td>\n    </tr>\n    <tr>\n      <td>940</td>\n      <td>941</td>\n      <td>20</td>\n      <td>M</td>\n      <td>student</td>\n      <td>97229</td>\n    </tr>\n    <tr>\n      <td>941</td>\n      <td>942</td>\n      <td>48</td>\n      <td>F</td>\n      <td>librarian</td>\n      <td>78209</td>\n    </tr>\n    <tr>\n      <td>942</td>\n      <td>943</td>\n      <td>22</td>\n      <td>M</td>\n      <td>student</td>\n      <td>77841</td>\n    </tr>\n  </tbody>\n</table>\n</div>",
      "text/plain": "     user_id  age gender     occupation zip_code\n938      939   26      F        student    33319\n939      940   32      M  administrator    02215\n940      941   20      M        student    97229\n941      942   48      F      librarian    78209\n942      943   22      M        student    77841"
     },
     "execution_count": 63,
     "metadata": {},
     "output_type": "execute_result"
    }
   ],
   "source": [
    "users.tail()"
   ]
  },
  {
   "cell_type": "code",
   "execution_count": 64,
   "metadata": {},
   "outputs": [
    {
     "data": {
      "text/html": "<div>\n<style scoped>\n    .dataframe tbody tr th:only-of-type {\n        vertical-align: middle;\n    }\n\n    .dataframe tbody tr th {\n        vertical-align: top;\n    }\n\n    .dataframe thead th {\n        text-align: right;\n    }\n</style>\n<table border=\"1\" class=\"dataframe\">\n  <thead>\n    <tr style=\"text-align: right;\">\n      <th></th>\n      <th>City</th>\n      <th>Colors Reported</th>\n      <th>Shape Reported</th>\n      <th>State</th>\n      <th>Time</th>\n    </tr>\n  </thead>\n  <tbody>\n    <tr>\n      <td>0</td>\n      <td>Ithaca</td>\n      <td>NaN</td>\n      <td>TRIANGLE</td>\n      <td>NY</td>\n      <td>6/1/1930 22:00</td>\n    </tr>\n    <tr>\n      <td>1</td>\n      <td>Willingboro</td>\n      <td>NaN</td>\n      <td>OTHER</td>\n      <td>NJ</td>\n      <td>6/30/1930 20:00</td>\n    </tr>\n    <tr>\n      <td>2</td>\n      <td>Holyoke</td>\n      <td>NaN</td>\n      <td>OVAL</td>\n      <td>CO</td>\n      <td>2/15/1931 14:00</td>\n    </tr>\n    <tr>\n      <td>3</td>\n      <td>Abilene</td>\n      <td>NaN</td>\n      <td>DISK</td>\n      <td>KS</td>\n      <td>6/1/1931 13:00</td>\n    </tr>\n    <tr>\n      <td>4</td>\n      <td>New York Worlds Fair</td>\n      <td>NaN</td>\n      <td>LIGHT</td>\n      <td>NY</td>\n      <td>4/18/1933 19:00</td>\n    </tr>\n    <tr>\n      <td>...</td>\n      <td>...</td>\n      <td>...</td>\n      <td>...</td>\n      <td>...</td>\n      <td>...</td>\n    </tr>\n    <tr>\n      <td>18236</td>\n      <td>Grant Park</td>\n      <td>NaN</td>\n      <td>TRIANGLE</td>\n      <td>IL</td>\n      <td>12/31/2000 23:00</td>\n    </tr>\n    <tr>\n      <td>18237</td>\n      <td>Spirit Lake</td>\n      <td>NaN</td>\n      <td>DISK</td>\n      <td>IA</td>\n      <td>12/31/2000 23:00</td>\n    </tr>\n    <tr>\n      <td>18238</td>\n      <td>Eagle River</td>\n      <td>NaN</td>\n      <td>NaN</td>\n      <td>WI</td>\n      <td>12/31/2000 23:45</td>\n    </tr>\n    <tr>\n      <td>18239</td>\n      <td>Eagle River</td>\n      <td>RED</td>\n      <td>LIGHT</td>\n      <td>WI</td>\n      <td>12/31/2000 23:45</td>\n    </tr>\n    <tr>\n      <td>18240</td>\n      <td>Ybor</td>\n      <td>NaN</td>\n      <td>OVAL</td>\n      <td>FL</td>\n      <td>12/31/2000 23:59</td>\n    </tr>\n  </tbody>\n</table>\n<p>18241 rows × 5 columns</p>\n</div>",
      "text/plain": "                       City Colors Reported Shape Reported State  \\\n0                    Ithaca             NaN       TRIANGLE    NY   \n1               Willingboro             NaN          OTHER    NJ   \n2                   Holyoke             NaN           OVAL    CO   \n3                   Abilene             NaN           DISK    KS   \n4      New York Worlds Fair             NaN          LIGHT    NY   \n...                     ...             ...            ...   ...   \n18236            Grant Park             NaN       TRIANGLE    IL   \n18237           Spirit Lake             NaN           DISK    IA   \n18238           Eagle River             NaN            NaN    WI   \n18239           Eagle River             RED          LIGHT    WI   \n18240                  Ybor             NaN           OVAL    FL   \n\n                   Time  \n0        6/1/1930 22:00  \n1       6/30/1930 20:00  \n2       2/15/1931 14:00  \n3        6/1/1931 13:00  \n4       4/18/1933 19:00  \n...                 ...  \n18236  12/31/2000 23:00  \n18237  12/31/2000 23:00  \n18238  12/31/2000 23:45  \n18239  12/31/2000 23:45  \n18240  12/31/2000 23:59  \n\n[18241 rows x 5 columns]"
     },
     "execution_count": 64,
     "metadata": {},
     "output_type": "execute_result"
    }
   ],
   "source": [
    "ufo = pd.read_csv('http://bit.ly/uforeports')\n",
    "ufo"
   ]
  },
  {
   "cell_type": "code",
   "execution_count": 65,
   "metadata": {},
   "outputs": [
    {
     "data": {
      "text/plain": "pandas.core.series.Series"
     },
     "execution_count": 65,
     "metadata": {},
     "output_type": "execute_result"
    }
   ],
   "source": [
    "type(ufo['City'])"
   ]
  },
  {
   "cell_type": "code",
   "execution_count": 66,
   "metadata": {},
   "outputs": [
    {
     "data": {
      "text/plain": "0        NaN\n1        NaN\n2        NaN\n3        NaN\n4        NaN\n        ... \n18236    NaN\n18237    NaN\n18238    NaN\n18239    RED\n18240    NaN\nName: Colors Reported, Length: 18241, dtype: object"
     },
     "execution_count": 66,
     "metadata": {},
     "output_type": "execute_result"
    }
   ],
   "source": [
    "ufo['Colors Reported']"
   ]
  },
  {
   "cell_type": "code",
   "execution_count": 67,
   "metadata": {},
   "outputs": [
    {
     "data": {
      "text/html": "<div>\n<style scoped>\n    .dataframe tbody tr th:only-of-type {\n        vertical-align: middle;\n    }\n\n    .dataframe tbody tr th {\n        vertical-align: top;\n    }\n\n    .dataframe thead th {\n        text-align: right;\n    }\n</style>\n<table border=\"1\" class=\"dataframe\">\n  <thead>\n    <tr style=\"text-align: right;\">\n      <th></th>\n      <th>City</th>\n      <th>Colors Reported</th>\n      <th>Shape Reported</th>\n      <th>State</th>\n      <th>Time</th>\n      <th>Location</th>\n    </tr>\n  </thead>\n  <tbody>\n    <tr>\n      <td>0</td>\n      <td>Ithaca</td>\n      <td>NaN</td>\n      <td>TRIANGLE</td>\n      <td>NY</td>\n      <td>6/1/1930 22:00</td>\n      <td>Ithaca, NY</td>\n    </tr>\n    <tr>\n      <td>1</td>\n      <td>Willingboro</td>\n      <td>NaN</td>\n      <td>OTHER</td>\n      <td>NJ</td>\n      <td>6/30/1930 20:00</td>\n      <td>Willingboro, NJ</td>\n    </tr>\n    <tr>\n      <td>2</td>\n      <td>Holyoke</td>\n      <td>NaN</td>\n      <td>OVAL</td>\n      <td>CO</td>\n      <td>2/15/1931 14:00</td>\n      <td>Holyoke, CO</td>\n    </tr>\n    <tr>\n      <td>3</td>\n      <td>Abilene</td>\n      <td>NaN</td>\n      <td>DISK</td>\n      <td>KS</td>\n      <td>6/1/1931 13:00</td>\n      <td>Abilene, KS</td>\n    </tr>\n    <tr>\n      <td>4</td>\n      <td>New York Worlds Fair</td>\n      <td>NaN</td>\n      <td>LIGHT</td>\n      <td>NY</td>\n      <td>4/18/1933 19:00</td>\n      <td>New York Worlds Fair, NY</td>\n    </tr>\n  </tbody>\n</table>\n</div>",
      "text/plain": "                   City Colors Reported Shape Reported State             Time  \\\n0                Ithaca             NaN       TRIANGLE    NY   6/1/1930 22:00   \n1           Willingboro             NaN          OTHER    NJ  6/30/1930 20:00   \n2               Holyoke             NaN           OVAL    CO  2/15/1931 14:00   \n3               Abilene             NaN           DISK    KS   6/1/1931 13:00   \n4  New York Worlds Fair             NaN          LIGHT    NY  4/18/1933 19:00   \n\n                   Location  \n0                Ithaca, NY  \n1           Willingboro, NJ  \n2               Holyoke, CO  \n3               Abilene, KS  \n4  New York Worlds Fair, NY  "
     },
     "execution_count": 67,
     "metadata": {},
     "output_type": "execute_result"
    }
   ],
   "source": [
    "ufo['Location'] = ufo.City + ', ' + ufo.State\n",
    "ufo.head()"
   ]
  },
  {
   "cell_type": "code",
   "execution_count": 70,
   "metadata": {},
   "outputs": [
    {
     "data": {
      "text/plain": "pandas.core.frame.DataFrame"
     },
     "execution_count": 70,
     "metadata": {},
     "output_type": "execute_result"
    }
   ],
   "source": [
    "series = ufo.squeeze()\n",
    "type(series)"
   ]
  },
  {
   "cell_type": "code",
   "execution_count": 72,
   "metadata": {},
   "outputs": [
    {
     "data": {
      "text/html": "<div>\n<style scoped>\n    .dataframe tbody tr th:only-of-type {\n        vertical-align: middle;\n    }\n\n    .dataframe tbody tr th {\n        vertical-align: top;\n    }\n\n    .dataframe thead th {\n        text-align: right;\n    }\n</style>\n<table border=\"1\" class=\"dataframe\">\n  <thead>\n    <tr style=\"text-align: right;\">\n      <th></th>\n      <th>star_rating</th>\n      <th>title</th>\n      <th>content_rating</th>\n      <th>genre</th>\n      <th>duration</th>\n      <th>actors_list</th>\n    </tr>\n  </thead>\n  <tbody>\n    <tr>\n      <td>0</td>\n      <td>9.3</td>\n      <td>The Shawshank Redemption</td>\n      <td>R</td>\n      <td>Crime</td>\n      <td>142</td>\n      <td>[u'Tim Robbins', u'Morgan Freeman', u'Bob Gunt...</td>\n    </tr>\n    <tr>\n      <td>1</td>\n      <td>9.2</td>\n      <td>The Godfather</td>\n      <td>R</td>\n      <td>Crime</td>\n      <td>175</td>\n      <td>[u'Marlon Brando', u'Al Pacino', u'James Caan']</td>\n    </tr>\n    <tr>\n      <td>2</td>\n      <td>9.1</td>\n      <td>The Godfather: Part II</td>\n      <td>R</td>\n      <td>Crime</td>\n      <td>200</td>\n      <td>[u'Al Pacino', u'Robert De Niro', u'Robert Duv...</td>\n    </tr>\n    <tr>\n      <td>3</td>\n      <td>9.0</td>\n      <td>The Dark Knight</td>\n      <td>PG-13</td>\n      <td>Action</td>\n      <td>152</td>\n      <td>[u'Christian Bale', u'Heath Ledger', u'Aaron E...</td>\n    </tr>\n    <tr>\n      <td>4</td>\n      <td>8.9</td>\n      <td>Pulp Fiction</td>\n      <td>R</td>\n      <td>Crime</td>\n      <td>154</td>\n      <td>[u'John Travolta', u'Uma Thurman', u'Samuel L....</td>\n    </tr>\n    <tr>\n      <td>...</td>\n      <td>...</td>\n      <td>...</td>\n      <td>...</td>\n      <td>...</td>\n      <td>...</td>\n      <td>...</td>\n    </tr>\n    <tr>\n      <td>974</td>\n      <td>7.4</td>\n      <td>Tootsie</td>\n      <td>PG</td>\n      <td>Comedy</td>\n      <td>116</td>\n      <td>[u'Dustin Hoffman', u'Jessica Lange', u'Teri G...</td>\n    </tr>\n    <tr>\n      <td>975</td>\n      <td>7.4</td>\n      <td>Back to the Future Part III</td>\n      <td>PG</td>\n      <td>Adventure</td>\n      <td>118</td>\n      <td>[u'Michael J. Fox', u'Christopher Lloyd', u'Ma...</td>\n    </tr>\n    <tr>\n      <td>976</td>\n      <td>7.4</td>\n      <td>Master and Commander: The Far Side of the World</td>\n      <td>PG-13</td>\n      <td>Action</td>\n      <td>138</td>\n      <td>[u'Russell Crowe', u'Paul Bettany', u'Billy Bo...</td>\n    </tr>\n    <tr>\n      <td>977</td>\n      <td>7.4</td>\n      <td>Poltergeist</td>\n      <td>PG</td>\n      <td>Horror</td>\n      <td>114</td>\n      <td>[u'JoBeth Williams', u\"Heather O'Rourke\", u'Cr...</td>\n    </tr>\n    <tr>\n      <td>978</td>\n      <td>7.4</td>\n      <td>Wall Street</td>\n      <td>R</td>\n      <td>Crime</td>\n      <td>126</td>\n      <td>[u'Charlie Sheen', u'Michael Douglas', u'Tamar...</td>\n    </tr>\n  </tbody>\n</table>\n<p>979 rows × 6 columns</p>\n</div>",
      "text/plain": "     star_rating                                            title  \\\n0            9.3                         The Shawshank Redemption   \n1            9.2                                    The Godfather   \n2            9.1                           The Godfather: Part II   \n3            9.0                                  The Dark Knight   \n4            8.9                                     Pulp Fiction   \n..           ...                                              ...   \n974          7.4                                          Tootsie   \n975          7.4                      Back to the Future Part III   \n976          7.4  Master and Commander: The Far Side of the World   \n977          7.4                                      Poltergeist   \n978          7.4                                      Wall Street   \n\n    content_rating      genre  duration  \\\n0                R      Crime       142   \n1                R      Crime       175   \n2                R      Crime       200   \n3            PG-13     Action       152   \n4                R      Crime       154   \n..             ...        ...       ...   \n974             PG     Comedy       116   \n975             PG  Adventure       118   \n976          PG-13     Action       138   \n977             PG     Horror       114   \n978              R      Crime       126   \n\n                                           actors_list  \n0    [u'Tim Robbins', u'Morgan Freeman', u'Bob Gunt...  \n1      [u'Marlon Brando', u'Al Pacino', u'James Caan']  \n2    [u'Al Pacino', u'Robert De Niro', u'Robert Duv...  \n3    [u'Christian Bale', u'Heath Ledger', u'Aaron E...  \n4    [u'John Travolta', u'Uma Thurman', u'Samuel L....  \n..                                                 ...  \n974  [u'Dustin Hoffman', u'Jessica Lange', u'Teri G...  \n975  [u'Michael J. Fox', u'Christopher Lloyd', u'Ma...  \n976  [u'Russell Crowe', u'Paul Bettany', u'Billy Bo...  \n977  [u'JoBeth Williams', u\"Heather O'Rourke\", u'Cr...  \n978  [u'Charlie Sheen', u'Michael Douglas', u'Tamar...  \n\n[979 rows x 6 columns]"
     },
     "execution_count": 72,
     "metadata": {},
     "output_type": "execute_result"
    }
   ],
   "source": [
    "movies = pd.read_csv('http://bit.ly/imdbratings')\n",
    "movies"
   ]
  },
  {
   "cell_type": "code",
   "execution_count": 73,
   "metadata": {},
   "outputs": [
    {
     "data": {
      "text/html": "<div>\n<style scoped>\n    .dataframe tbody tr th:only-of-type {\n        vertical-align: middle;\n    }\n\n    .dataframe tbody tr th {\n        vertical-align: top;\n    }\n\n    .dataframe thead th {\n        text-align: right;\n    }\n</style>\n<table border=\"1\" class=\"dataframe\">\n  <thead>\n    <tr style=\"text-align: right;\">\n      <th></th>\n      <th>star_rating</th>\n      <th>duration</th>\n    </tr>\n  </thead>\n  <tbody>\n    <tr>\n      <td>count</td>\n      <td>979.000000</td>\n      <td>979.000000</td>\n    </tr>\n    <tr>\n      <td>mean</td>\n      <td>7.889785</td>\n      <td>120.979571</td>\n    </tr>\n    <tr>\n      <td>std</td>\n      <td>0.336069</td>\n      <td>26.218010</td>\n    </tr>\n    <tr>\n      <td>min</td>\n      <td>7.400000</td>\n      <td>64.000000</td>\n    </tr>\n    <tr>\n      <td>25%</td>\n      <td>7.600000</td>\n      <td>102.000000</td>\n    </tr>\n    <tr>\n      <td>50%</td>\n      <td>7.800000</td>\n      <td>117.000000</td>\n    </tr>\n    <tr>\n      <td>75%</td>\n      <td>8.100000</td>\n      <td>134.000000</td>\n    </tr>\n    <tr>\n      <td>max</td>\n      <td>9.300000</td>\n      <td>242.000000</td>\n    </tr>\n  </tbody>\n</table>\n</div>",
      "text/plain": "       star_rating    duration\ncount   979.000000  979.000000\nmean      7.889785  120.979571\nstd       0.336069   26.218010\nmin       7.400000   64.000000\n25%       7.600000  102.000000\n50%       7.800000  117.000000\n75%       8.100000  134.000000\nmax       9.300000  242.000000"
     },
     "execution_count": 73,
     "metadata": {},
     "output_type": "execute_result"
    }
   ],
   "source": [
    "movies.describe()"
   ]
  },
  {
   "cell_type": "code",
   "execution_count": 74,
   "metadata": {},
   "outputs": [
    {
     "data": {
      "text/plain": "(979, 6)"
     },
     "execution_count": 74,
     "metadata": {},
     "output_type": "execute_result"
    }
   ],
   "source": [
    "movies.shape"
   ]
  },
  {
   "cell_type": "code",
   "execution_count": 76,
   "metadata": {},
   "outputs": [
    {
     "data": {
      "text/plain": "star_rating       float64\ntitle              object\ncontent_rating     object\ngenre              object\nduration            int64\nactors_list        object\ndtype: object"
     },
     "execution_count": 76,
     "metadata": {},
     "output_type": "execute_result"
    }
   ],
   "source": [
    "movies.dtypes"
   ]
  },
  {
   "cell_type": "code",
   "execution_count": 77,
   "metadata": {},
   "outputs": [
    {
     "data": {
      "text/plain": "pandas.core.frame.DataFrame"
     },
     "execution_count": 77,
     "metadata": {},
     "output_type": "execute_result"
    }
   ],
   "source": [
    "type(movies)"
   ]
  },
  {
   "cell_type": "code",
   "execution_count": 86,
   "metadata": {},
   "outputs": [
    {
     "data": {
      "text/html": "<div>\n<style scoped>\n    .dataframe tbody tr th:only-of-type {\n        vertical-align: middle;\n    }\n\n    .dataframe tbody tr th {\n        vertical-align: top;\n    }\n\n    .dataframe thead th {\n        text-align: right;\n    }\n</style>\n<table border=\"1\" class=\"dataframe\">\n  <thead>\n    <tr style=\"text-align: right;\">\n      <th></th>\n      <th>star_rating</th>\n      <th>title</th>\n      <th>content_rating</th>\n      <th>genre</th>\n      <th>actors_list</th>\n    </tr>\n  </thead>\n  <tbody>\n    <tr>\n      <td>count</td>\n      <td>979.000000</td>\n      <td>979</td>\n      <td>976</td>\n      <td>979</td>\n      <td>979</td>\n    </tr>\n    <tr>\n      <td>unique</td>\n      <td>NaN</td>\n      <td>975</td>\n      <td>12</td>\n      <td>16</td>\n      <td>969</td>\n    </tr>\n    <tr>\n      <td>top</td>\n      <td>NaN</td>\n      <td>The Girl with the Dragon Tattoo</td>\n      <td>R</td>\n      <td>Drama</td>\n      <td>[u'Daniel Radcliffe', u'Emma Watson', u'Rupert...</td>\n    </tr>\n    <tr>\n      <td>freq</td>\n      <td>NaN</td>\n      <td>2</td>\n      <td>460</td>\n      <td>278</td>\n      <td>6</td>\n    </tr>\n    <tr>\n      <td>mean</td>\n      <td>7.889785</td>\n      <td>NaN</td>\n      <td>NaN</td>\n      <td>NaN</td>\n      <td>NaN</td>\n    </tr>\n    <tr>\n      <td>std</td>\n      <td>0.336069</td>\n      <td>NaN</td>\n      <td>NaN</td>\n      <td>NaN</td>\n      <td>NaN</td>\n    </tr>\n    <tr>\n      <td>min</td>\n      <td>7.400000</td>\n      <td>NaN</td>\n      <td>NaN</td>\n      <td>NaN</td>\n      <td>NaN</td>\n    </tr>\n    <tr>\n      <td>25%</td>\n      <td>7.600000</td>\n      <td>NaN</td>\n      <td>NaN</td>\n      <td>NaN</td>\n      <td>NaN</td>\n    </tr>\n    <tr>\n      <td>50%</td>\n      <td>7.800000</td>\n      <td>NaN</td>\n      <td>NaN</td>\n      <td>NaN</td>\n      <td>NaN</td>\n    </tr>\n    <tr>\n      <td>75%</td>\n      <td>8.100000</td>\n      <td>NaN</td>\n      <td>NaN</td>\n      <td>NaN</td>\n      <td>NaN</td>\n    </tr>\n    <tr>\n      <td>max</td>\n      <td>9.300000</td>\n      <td>NaN</td>\n      <td>NaN</td>\n      <td>NaN</td>\n      <td>NaN</td>\n    </tr>\n  </tbody>\n</table>\n</div>",
      "text/plain": "        star_rating                            title content_rating  genre  \\\ncount    979.000000                              979            976    979   \nunique          NaN                              975             12     16   \ntop             NaN  The Girl with the Dragon Tattoo              R  Drama   \nfreq            NaN                                2            460    278   \nmean       7.889785                              NaN            NaN    NaN   \nstd        0.336069                              NaN            NaN    NaN   \nmin        7.400000                              NaN            NaN    NaN   \n25%        7.600000                              NaN            NaN    NaN   \n50%        7.800000                              NaN            NaN    NaN   \n75%        8.100000                              NaN            NaN    NaN   \nmax        9.300000                              NaN            NaN    NaN   \n\n                                              actors_list  \ncount                                                 979  \nunique                                                969  \ntop     [u'Daniel Radcliffe', u'Emma Watson', u'Rupert...  \nfreq                                                    6  \nmean                                                  NaN  \nstd                                                   NaN  \nmin                                                   NaN  \n25%                                                   NaN  \n50%                                                   NaN  \n75%                                                   NaN  \nmax                                                   NaN  "
     },
     "execution_count": 86,
     "metadata": {},
     "output_type": "execute_result"
    }
   ],
   "source": [
    "movies.describe(include=['object','float', 'int'])"
   ]
  },
  {
   "cell_type": "code",
   "execution_count": 89,
   "metadata": {},
   "outputs": [
    {
     "data": {
      "text/html": "<div>\n<style scoped>\n    .dataframe tbody tr th:only-of-type {\n        vertical-align: middle;\n    }\n\n    .dataframe tbody tr th {\n        vertical-align: top;\n    }\n\n    .dataframe thead th {\n        text-align: right;\n    }\n</style>\n<table border=\"1\" class=\"dataframe\">\n  <thead>\n    <tr style=\"text-align: right;\">\n      <th></th>\n      <th>City</th>\n      <th>Colors Reported</th>\n      <th>Shape Reported</th>\n      <th>State</th>\n      <th>Time</th>\n    </tr>\n  </thead>\n  <tbody>\n    <tr>\n      <td>0</td>\n      <td>Ithaca</td>\n      <td>NaN</td>\n      <td>TRIANGLE</td>\n      <td>NY</td>\n      <td>6/1/1930 22:00</td>\n    </tr>\n    <tr>\n      <td>1</td>\n      <td>Willingboro</td>\n      <td>NaN</td>\n      <td>OTHER</td>\n      <td>NJ</td>\n      <td>6/30/1930 20:00</td>\n    </tr>\n    <tr>\n      <td>2</td>\n      <td>Holyoke</td>\n      <td>NaN</td>\n      <td>OVAL</td>\n      <td>CO</td>\n      <td>2/15/1931 14:00</td>\n    </tr>\n    <tr>\n      <td>3</td>\n      <td>Abilene</td>\n      <td>NaN</td>\n      <td>DISK</td>\n      <td>KS</td>\n      <td>6/1/1931 13:00</td>\n    </tr>\n    <tr>\n      <td>4</td>\n      <td>New York Worlds Fair</td>\n      <td>NaN</td>\n      <td>LIGHT</td>\n      <td>NY</td>\n      <td>4/18/1933 19:00</td>\n    </tr>\n  </tbody>\n</table>\n</div>",
      "text/plain": "                   City Colors Reported Shape Reported State             Time\n0                Ithaca             NaN       TRIANGLE    NY   6/1/1930 22:00\n1           Willingboro             NaN          OTHER    NJ  6/30/1930 20:00\n2               Holyoke             NaN           OVAL    CO  2/15/1931 14:00\n3               Abilene             NaN           DISK    KS   6/1/1931 13:00\n4  New York Worlds Fair             NaN          LIGHT    NY  4/18/1933 19:00"
     },
     "execution_count": 89,
     "metadata": {},
     "output_type": "execute_result"
    }
   ],
   "source": [
    "ufo = pd.read_csv('http://bit.ly/uforeports')\n",
    "ufo.head()"
   ]
  },
  {
   "cell_type": "code",
   "execution_count": 90,
   "metadata": {},
   "outputs": [
    {
     "data": {
      "text/plain": "Index(['City', 'Colors Reported', 'Shape Reported', 'State', 'Time'], dtype='object')"
     },
     "execution_count": 90,
     "metadata": {},
     "output_type": "execute_result"
    }
   ],
   "source": [
    "ufo.columns"
   ]
  },
  {
   "cell_type": "code",
   "execution_count": 94,
   "metadata": {},
   "outputs": [
    {
     "data": {
      "text/plain": "Index(['City', 'Colors_Reported', 'Shape_Reported', 'State', 'Time'], dtype='object')"
     },
     "execution_count": 94,
     "metadata": {},
     "output_type": "execute_result"
    }
   ],
   "source": [
    "ufo.rename(columns={'Colors Reported': 'Colors_Reported', 'Shape Reported': 'Shape_Reported'}, inplace=True)\n",
    "ufo.columns"
   ]
  },
  {
   "cell_type": "code",
   "execution_count": 95,
   "metadata": {},
   "outputs": [
    {
     "data": {
      "text/plain": "Index(['City', 'Colors_Reported', 'Shape_Reported', 'State', 'Time'], dtype='object')"
     },
     "execution_count": 95,
     "metadata": {},
     "output_type": "execute_result"
    }
   ],
   "source": [
    "ufo.columns"
   ]
  },
  {
   "cell_type": "code",
   "execution_count": 102,
   "metadata": {},
   "outputs": [
    {
     "data": {
      "text/plain": "Index(['city', 'colors reported', 'shape reported', 'state', 'time'], dtype='object')"
     },
     "execution_count": 102,
     "metadata": {},
     "output_type": "execute_result"
    }
   ],
   "source": [
    "ufo.columns\n",
    "\n",
    "ufo_cols = ['city', 'colors reported', 'shape reported', 'state', 'time']\n",
    "ufo.columns = ufo_cols\n",
    "ufo.columns"
   ]
  },
  {
   "cell_type": "code",
   "execution_count": 123,
   "metadata": {},
   "outputs": [
    {
     "data": {
      "text/html": "<div>\n<style scoped>\n    .dataframe tbody tr th:only-of-type {\n        vertical-align: middle;\n    }\n\n    .dataframe tbody tr th {\n        vertical-align: top;\n    }\n\n    .dataframe thead th {\n        text-align: right;\n    }\n</style>\n<table border=\"1\" class=\"dataframe\">\n  <thead>\n    <tr style=\"text-align: right;\">\n      <th></th>\n      <th>city</th>\n      <th>colors reported</th>\n      <th>shape reported</th>\n      <th>state</th>\n      <th>time</th>\n    </tr>\n  </thead>\n  <tbody>\n    <tr>\n      <td>0</td>\n      <td>Ithaca</td>\n      <td>NaN</td>\n      <td>TRIANGLE</td>\n      <td>NY</td>\n      <td>6/1/1930 22:00</td>\n    </tr>\n    <tr>\n      <td>1</td>\n      <td>Willingboro</td>\n      <td>NaN</td>\n      <td>OTHER</td>\n      <td>NJ</td>\n      <td>6/30/1930 20:00</td>\n    </tr>\n    <tr>\n      <td>2</td>\n      <td>Holyoke</td>\n      <td>NaN</td>\n      <td>OVAL</td>\n      <td>CO</td>\n      <td>2/15/1931 14:00</td>\n    </tr>\n    <tr>\n      <td>3</td>\n      <td>Abilene</td>\n      <td>NaN</td>\n      <td>DISK</td>\n      <td>KS</td>\n      <td>6/1/1931 13:00</td>\n    </tr>\n    <tr>\n      <td>4</td>\n      <td>New York Worlds Fair</td>\n      <td>NaN</td>\n      <td>LIGHT</td>\n      <td>NY</td>\n      <td>4/18/1933 19:00</td>\n    </tr>\n    <tr>\n      <td>...</td>\n      <td>...</td>\n      <td>...</td>\n      <td>...</td>\n      <td>...</td>\n      <td>...</td>\n    </tr>\n    <tr>\n      <td>18236</td>\n      <td>Grant Park</td>\n      <td>NaN</td>\n      <td>TRIANGLE</td>\n      <td>IL</td>\n      <td>12/31/2000 23:00</td>\n    </tr>\n    <tr>\n      <td>18237</td>\n      <td>Spirit Lake</td>\n      <td>NaN</td>\n      <td>DISK</td>\n      <td>IA</td>\n      <td>12/31/2000 23:00</td>\n    </tr>\n    <tr>\n      <td>18238</td>\n      <td>Eagle River</td>\n      <td>NaN</td>\n      <td>NaN</td>\n      <td>WI</td>\n      <td>12/31/2000 23:45</td>\n    </tr>\n    <tr>\n      <td>18239</td>\n      <td>Eagle River</td>\n      <td>RED</td>\n      <td>LIGHT</td>\n      <td>WI</td>\n      <td>12/31/2000 23:45</td>\n    </tr>\n    <tr>\n      <td>18240</td>\n      <td>Ybor</td>\n      <td>NaN</td>\n      <td>OVAL</td>\n      <td>FL</td>\n      <td>12/31/2000 23:59</td>\n    </tr>\n  </tbody>\n</table>\n<p>18241 rows × 5 columns</p>\n</div>",
      "text/plain": "                       city colors reported shape reported state  \\\n0                    Ithaca             NaN       TRIANGLE    NY   \n1               Willingboro             NaN          OTHER    NJ   \n2                   Holyoke             NaN           OVAL    CO   \n3                   Abilene             NaN           DISK    KS   \n4      New York Worlds Fair             NaN          LIGHT    NY   \n...                     ...             ...            ...   ...   \n18236            Grant Park             NaN       TRIANGLE    IL   \n18237           Spirit Lake             NaN           DISK    IA   \n18238           Eagle River             NaN            NaN    WI   \n18239           Eagle River             RED          LIGHT    WI   \n18240                  Ybor             NaN           OVAL    FL   \n\n                   time  \n0        6/1/1930 22:00  \n1       6/30/1930 20:00  \n2       2/15/1931 14:00  \n3        6/1/1931 13:00  \n4       4/18/1933 19:00  \n...                 ...  \n18236  12/31/2000 23:00  \n18237  12/31/2000 23:00  \n18238  12/31/2000 23:45  \n18239  12/31/2000 23:45  \n18240  12/31/2000 23:59  \n\n[18241 rows x 5 columns]"
     },
     "execution_count": 123,
     "metadata": {},
     "output_type": "execute_result"
    }
   ],
   "source": [
    "ufo = pd.read_csv('http://bit.ly/uforeports', names=ufo_cols, header=0)\n",
    "ufo"
   ]
  },
  {
   "cell_type": "code",
   "execution_count": 108,
   "metadata": {},
   "outputs": [
    {
     "data": {
      "text/html": "<div>\n<style scoped>\n    .dataframe tbody tr th:only-of-type {\n        vertical-align: middle;\n    }\n\n    .dataframe tbody tr th {\n        vertical-align: top;\n    }\n\n    .dataframe thead th {\n        text-align: right;\n    }\n</style>\n<table border=\"1\" class=\"dataframe\">\n  <thead>\n    <tr style=\"text-align: right;\">\n      <th></th>\n      <th>City</th>\n      <th>Colors Reported</th>\n      <th>Shape Reported</th>\n      <th>State</th>\n      <th>Time</th>\n    </tr>\n  </thead>\n  <tbody>\n    <tr>\n      <td>0</td>\n      <td>Ithaca</td>\n      <td>NaN</td>\n      <td>TRIANGLE</td>\n      <td>NY</td>\n      <td>6/1/1930 22:00</td>\n    </tr>\n    <tr>\n      <td>1</td>\n      <td>Willingboro</td>\n      <td>NaN</td>\n      <td>OTHER</td>\n      <td>NJ</td>\n      <td>6/30/1930 20:00</td>\n    </tr>\n    <tr>\n      <td>2</td>\n      <td>Holyoke</td>\n      <td>NaN</td>\n      <td>OVAL</td>\n      <td>CO</td>\n      <td>2/15/1931 14:00</td>\n    </tr>\n    <tr>\n      <td>3</td>\n      <td>Abilene</td>\n      <td>NaN</td>\n      <td>DISK</td>\n      <td>KS</td>\n      <td>6/1/1931 13:00</td>\n    </tr>\n    <tr>\n      <td>4</td>\n      <td>New York Worlds Fair</td>\n      <td>NaN</td>\n      <td>LIGHT</td>\n      <td>NY</td>\n      <td>4/18/1933 19:00</td>\n    </tr>\n    <tr>\n      <td>...</td>\n      <td>...</td>\n      <td>...</td>\n      <td>...</td>\n      <td>...</td>\n      <td>...</td>\n    </tr>\n    <tr>\n      <td>18236</td>\n      <td>Grant Park</td>\n      <td>NaN</td>\n      <td>TRIANGLE</td>\n      <td>IL</td>\n      <td>12/31/2000 23:00</td>\n    </tr>\n    <tr>\n      <td>18237</td>\n      <td>Spirit Lake</td>\n      <td>NaN</td>\n      <td>DISK</td>\n      <td>IA</td>\n      <td>12/31/2000 23:00</td>\n    </tr>\n    <tr>\n      <td>18238</td>\n      <td>Eagle River</td>\n      <td>NaN</td>\n      <td>NaN</td>\n      <td>WI</td>\n      <td>12/31/2000 23:45</td>\n    </tr>\n    <tr>\n      <td>18239</td>\n      <td>Eagle River</td>\n      <td>RED</td>\n      <td>LIGHT</td>\n      <td>WI</td>\n      <td>12/31/2000 23:45</td>\n    </tr>\n    <tr>\n      <td>18240</td>\n      <td>Ybor</td>\n      <td>NaN</td>\n      <td>OVAL</td>\n      <td>FL</td>\n      <td>12/31/2000 23:59</td>\n    </tr>\n  </tbody>\n</table>\n<p>18241 rows × 5 columns</p>\n</div>",
      "text/plain": "                       City Colors Reported Shape Reported State  \\\n0                    Ithaca             NaN       TRIANGLE    NY   \n1               Willingboro             NaN          OTHER    NJ   \n2                   Holyoke             NaN           OVAL    CO   \n3                   Abilene             NaN           DISK    KS   \n4      New York Worlds Fair             NaN          LIGHT    NY   \n...                     ...             ...            ...   ...   \n18236            Grant Park             NaN       TRIANGLE    IL   \n18237           Spirit Lake             NaN           DISK    IA   \n18238           Eagle River             NaN            NaN    WI   \n18239           Eagle River             RED          LIGHT    WI   \n18240                  Ybor             NaN           OVAL    FL   \n\n                   Time  \n0        6/1/1930 22:00  \n1       6/30/1930 20:00  \n2       2/15/1931 14:00  \n3        6/1/1931 13:00  \n4       4/18/1933 19:00  \n...                 ...  \n18236  12/31/2000 23:00  \n18237  12/31/2000 23:00  \n18238  12/31/2000 23:45  \n18239  12/31/2000 23:45  \n18240  12/31/2000 23:59  \n\n[18241 rows x 5 columns]"
     },
     "execution_count": 108,
     "metadata": {},
     "output_type": "execute_result"
    }
   ],
   "source": [
    "ufo.columns = ufo.columns.str.replace(' ', '_')\n",
    "ufo = pd.read_csv('http://bit.ly/uforeports', header=0)\n",
    "ufo"
   ]
  },
  {
   "cell_type": "code",
   "execution_count": 124,
   "metadata": {},
   "outputs": [
    {
     "data": {
      "text/plain": "Index(['city', 'colors_reported', 'shape_reported', 'state', 'time'], dtype='object')"
     },
     "execution_count": 124,
     "metadata": {},
     "output_type": "execute_result"
    }
   ],
   "source": [
    "ufo.columns = ufo.columns.str.lower()\n",
    "ufo.columns = ufo.columns.str.replace(' ', '_')\n",
    "ufo.columns"
   ]
  },
  {
   "cell_type": "code",
   "execution_count": 125,
   "metadata": {},
   "outputs": [
    {
     "data": {
      "text/html": "<div>\n<style scoped>\n    .dataframe tbody tr th:only-of-type {\n        vertical-align: middle;\n    }\n\n    .dataframe tbody tr th {\n        vertical-align: top;\n    }\n\n    .dataframe thead th {\n        text-align: right;\n    }\n</style>\n<table border=\"1\" class=\"dataframe\">\n  <thead>\n    <tr style=\"text-align: right;\">\n      <th></th>\n      <th>city</th>\n      <th>colors_reported</th>\n      <th>shape_reported</th>\n      <th>state</th>\n      <th>time</th>\n    </tr>\n  </thead>\n  <tbody>\n    <tr>\n      <td>0</td>\n      <td>Ithaca</td>\n      <td>NaN</td>\n      <td>TRIANGLE</td>\n      <td>NY</td>\n      <td>6/1/1930 22:00</td>\n    </tr>\n    <tr>\n      <td>1</td>\n      <td>Willingboro</td>\n      <td>NaN</td>\n      <td>OTHER</td>\n      <td>NJ</td>\n      <td>6/30/1930 20:00</td>\n    </tr>\n    <tr>\n      <td>2</td>\n      <td>Holyoke</td>\n      <td>NaN</td>\n      <td>OVAL</td>\n      <td>CO</td>\n      <td>2/15/1931 14:00</td>\n    </tr>\n    <tr>\n      <td>3</td>\n      <td>Abilene</td>\n      <td>NaN</td>\n      <td>DISK</td>\n      <td>KS</td>\n      <td>6/1/1931 13:00</td>\n    </tr>\n    <tr>\n      <td>4</td>\n      <td>New York Worlds Fair</td>\n      <td>NaN</td>\n      <td>LIGHT</td>\n      <td>NY</td>\n      <td>4/18/1933 19:00</td>\n    </tr>\n  </tbody>\n</table>\n</div>",
      "text/plain": "                   city colors_reported shape_reported state             time\n0                Ithaca             NaN       TRIANGLE    NY   6/1/1930 22:00\n1           Willingboro             NaN          OTHER    NJ  6/30/1930 20:00\n2               Holyoke             NaN           OVAL    CO  2/15/1931 14:00\n3               Abilene             NaN           DISK    KS   6/1/1931 13:00\n4  New York Worlds Fair             NaN          LIGHT    NY  4/18/1933 19:00"
     },
     "execution_count": 125,
     "metadata": {},
     "output_type": "execute_result"
    }
   ],
   "source": [
    "ufo.head()"
   ]
  },
  {
   "cell_type": "code",
   "execution_count": 127,
   "metadata": {},
   "outputs": [
    {
     "data": {
      "text/plain": "(18241, 5)"
     },
     "execution_count": 127,
     "metadata": {},
     "output_type": "execute_result"
    }
   ],
   "source": [
    "ufo.shape"
   ]
  },
  {
   "cell_type": "code",
   "execution_count": 128,
   "metadata": {},
   "outputs": [],
   "source": [
    "ufo.drop('colors_reported', axis=1, inplace=True)"
   ]
  },
  {
   "cell_type": "code",
   "execution_count": 129,
   "metadata": {},
   "outputs": [
    {
     "data": {
      "text/html": "<div>\n<style scoped>\n    .dataframe tbody tr th:only-of-type {\n        vertical-align: middle;\n    }\n\n    .dataframe tbody tr th {\n        vertical-align: top;\n    }\n\n    .dataframe thead th {\n        text-align: right;\n    }\n</style>\n<table border=\"1\" class=\"dataframe\">\n  <thead>\n    <tr style=\"text-align: right;\">\n      <th></th>\n      <th>city</th>\n      <th>shape_reported</th>\n      <th>state</th>\n      <th>time</th>\n    </tr>\n  </thead>\n  <tbody>\n    <tr>\n      <td>0</td>\n      <td>Ithaca</td>\n      <td>TRIANGLE</td>\n      <td>NY</td>\n      <td>6/1/1930 22:00</td>\n    </tr>\n    <tr>\n      <td>1</td>\n      <td>Willingboro</td>\n      <td>OTHER</td>\n      <td>NJ</td>\n      <td>6/30/1930 20:00</td>\n    </tr>\n    <tr>\n      <td>2</td>\n      <td>Holyoke</td>\n      <td>OVAL</td>\n      <td>CO</td>\n      <td>2/15/1931 14:00</td>\n    </tr>\n    <tr>\n      <td>3</td>\n      <td>Abilene</td>\n      <td>DISK</td>\n      <td>KS</td>\n      <td>6/1/1931 13:00</td>\n    </tr>\n    <tr>\n      <td>4</td>\n      <td>New York Worlds Fair</td>\n      <td>LIGHT</td>\n      <td>NY</td>\n      <td>4/18/1933 19:00</td>\n    </tr>\n  </tbody>\n</table>\n</div>",
      "text/plain": "                   city shape_reported state             time\n0                Ithaca       TRIANGLE    NY   6/1/1930 22:00\n1           Willingboro          OTHER    NJ  6/30/1930 20:00\n2               Holyoke           OVAL    CO  2/15/1931 14:00\n3               Abilene           DISK    KS   6/1/1931 13:00\n4  New York Worlds Fair          LIGHT    NY  4/18/1933 19:00"
     },
     "execution_count": 129,
     "metadata": {},
     "output_type": "execute_result"
    }
   ],
   "source": [
    "ufo.head()"
   ]
  },
  {
   "cell_type": "code",
   "execution_count": 131,
   "metadata": {},
   "outputs": [
    {
     "ename": "KeyError",
     "evalue": "\"['city' 'shape_reported'] not found in axis\"",
     "output_type": "error",
     "traceback": [
      "\u001b[1;31m---------------------------------------------------------------------------\u001b[0m",
      "\u001b[1;31mKeyError\u001b[0m                                  Traceback (most recent call last)",
      "\u001b[1;32m<ipython-input-131-205135201a2c>\u001b[0m in \u001b[0;36m<module>\u001b[1;34m\u001b[0m\n\u001b[1;32m----> 1\u001b[1;33m \u001b[0mufo\u001b[0m\u001b[1;33m.\u001b[0m\u001b[0mdrop\u001b[0m\u001b[1;33m(\u001b[0m\u001b[1;33m[\u001b[0m\u001b[1;34m'city'\u001b[0m\u001b[1;33m,\u001b[0m\u001b[1;34m'shape_reported'\u001b[0m\u001b[1;33m]\u001b[0m\u001b[1;33m,\u001b[0m \u001b[0maxis\u001b[0m\u001b[1;33m=\u001b[0m\u001b[1;36m1\u001b[0m\u001b[1;33m,\u001b[0m \u001b[0minplace\u001b[0m\u001b[1;33m=\u001b[0m\u001b[1;32mTrue\u001b[0m\u001b[1;33m)\u001b[0m\u001b[1;33m\u001b[0m\u001b[1;33m\u001b[0m\u001b[0m\n\u001b[0m\u001b[0;32m      2\u001b[0m \u001b[0mufo\u001b[0m\u001b[1;33m.\u001b[0m\u001b[0mhead\u001b[0m\u001b[1;33m(\u001b[0m\u001b[1;33m)\u001b[0m\u001b[1;33m\u001b[0m\u001b[1;33m\u001b[0m\u001b[0m\n",
      "\u001b[1;32m~\\AppData\\Local\\Continuum\\anaconda3\\lib\\site-packages\\pandas\\core\\frame.py\u001b[0m in \u001b[0;36mdrop\u001b[1;34m(self, labels, axis, index, columns, level, inplace, errors)\u001b[0m\n\u001b[0;32m   4100\u001b[0m             \u001b[0mlevel\u001b[0m\u001b[1;33m=\u001b[0m\u001b[0mlevel\u001b[0m\u001b[1;33m,\u001b[0m\u001b[1;33m\u001b[0m\u001b[1;33m\u001b[0m\u001b[0m\n\u001b[0;32m   4101\u001b[0m             \u001b[0minplace\u001b[0m\u001b[1;33m=\u001b[0m\u001b[0minplace\u001b[0m\u001b[1;33m,\u001b[0m\u001b[1;33m\u001b[0m\u001b[1;33m\u001b[0m\u001b[0m\n\u001b[1;32m-> 4102\u001b[1;33m             \u001b[0merrors\u001b[0m\u001b[1;33m=\u001b[0m\u001b[0merrors\u001b[0m\u001b[1;33m,\u001b[0m\u001b[1;33m\u001b[0m\u001b[1;33m\u001b[0m\u001b[0m\n\u001b[0m\u001b[0;32m   4103\u001b[0m         )\n\u001b[0;32m   4104\u001b[0m \u001b[1;33m\u001b[0m\u001b[0m\n",
      "\u001b[1;32m~\\AppData\\Local\\Continuum\\anaconda3\\lib\\site-packages\\pandas\\core\\generic.py\u001b[0m in \u001b[0;36mdrop\u001b[1;34m(self, labels, axis, index, columns, level, inplace, errors)\u001b[0m\n\u001b[0;32m   3912\u001b[0m         \u001b[1;32mfor\u001b[0m \u001b[0maxis\u001b[0m\u001b[1;33m,\u001b[0m \u001b[0mlabels\u001b[0m \u001b[1;32min\u001b[0m \u001b[0maxes\u001b[0m\u001b[1;33m.\u001b[0m\u001b[0mitems\u001b[0m\u001b[1;33m(\u001b[0m\u001b[1;33m)\u001b[0m\u001b[1;33m:\u001b[0m\u001b[1;33m\u001b[0m\u001b[1;33m\u001b[0m\u001b[0m\n\u001b[0;32m   3913\u001b[0m             \u001b[1;32mif\u001b[0m \u001b[0mlabels\u001b[0m \u001b[1;32mis\u001b[0m \u001b[1;32mnot\u001b[0m \u001b[1;32mNone\u001b[0m\u001b[1;33m:\u001b[0m\u001b[1;33m\u001b[0m\u001b[1;33m\u001b[0m\u001b[0m\n\u001b[1;32m-> 3914\u001b[1;33m                 \u001b[0mobj\u001b[0m \u001b[1;33m=\u001b[0m \u001b[0mobj\u001b[0m\u001b[1;33m.\u001b[0m\u001b[0m_drop_axis\u001b[0m\u001b[1;33m(\u001b[0m\u001b[0mlabels\u001b[0m\u001b[1;33m,\u001b[0m \u001b[0maxis\u001b[0m\u001b[1;33m,\u001b[0m \u001b[0mlevel\u001b[0m\u001b[1;33m=\u001b[0m\u001b[0mlevel\u001b[0m\u001b[1;33m,\u001b[0m \u001b[0merrors\u001b[0m\u001b[1;33m=\u001b[0m\u001b[0merrors\u001b[0m\u001b[1;33m)\u001b[0m\u001b[1;33m\u001b[0m\u001b[1;33m\u001b[0m\u001b[0m\n\u001b[0m\u001b[0;32m   3915\u001b[0m \u001b[1;33m\u001b[0m\u001b[0m\n\u001b[0;32m   3916\u001b[0m         \u001b[1;32mif\u001b[0m \u001b[0minplace\u001b[0m\u001b[1;33m:\u001b[0m\u001b[1;33m\u001b[0m\u001b[1;33m\u001b[0m\u001b[0m\n",
      "\u001b[1;32m~\\AppData\\Local\\Continuum\\anaconda3\\lib\\site-packages\\pandas\\core\\generic.py\u001b[0m in \u001b[0;36m_drop_axis\u001b[1;34m(self, labels, axis, level, errors)\u001b[0m\n\u001b[0;32m   3944\u001b[0m                 \u001b[0mnew_axis\u001b[0m \u001b[1;33m=\u001b[0m \u001b[0maxis\u001b[0m\u001b[1;33m.\u001b[0m\u001b[0mdrop\u001b[0m\u001b[1;33m(\u001b[0m\u001b[0mlabels\u001b[0m\u001b[1;33m,\u001b[0m \u001b[0mlevel\u001b[0m\u001b[1;33m=\u001b[0m\u001b[0mlevel\u001b[0m\u001b[1;33m,\u001b[0m \u001b[0merrors\u001b[0m\u001b[1;33m=\u001b[0m\u001b[0merrors\u001b[0m\u001b[1;33m)\u001b[0m\u001b[1;33m\u001b[0m\u001b[1;33m\u001b[0m\u001b[0m\n\u001b[0;32m   3945\u001b[0m             \u001b[1;32melse\u001b[0m\u001b[1;33m:\u001b[0m\u001b[1;33m\u001b[0m\u001b[1;33m\u001b[0m\u001b[0m\n\u001b[1;32m-> 3946\u001b[1;33m                 \u001b[0mnew_axis\u001b[0m \u001b[1;33m=\u001b[0m \u001b[0maxis\u001b[0m\u001b[1;33m.\u001b[0m\u001b[0mdrop\u001b[0m\u001b[1;33m(\u001b[0m\u001b[0mlabels\u001b[0m\u001b[1;33m,\u001b[0m \u001b[0merrors\u001b[0m\u001b[1;33m=\u001b[0m\u001b[0merrors\u001b[0m\u001b[1;33m)\u001b[0m\u001b[1;33m\u001b[0m\u001b[1;33m\u001b[0m\u001b[0m\n\u001b[0m\u001b[0;32m   3947\u001b[0m             \u001b[0mresult\u001b[0m \u001b[1;33m=\u001b[0m \u001b[0mself\u001b[0m\u001b[1;33m.\u001b[0m\u001b[0mreindex\u001b[0m\u001b[1;33m(\u001b[0m\u001b[1;33m**\u001b[0m\u001b[1;33m{\u001b[0m\u001b[0maxis_name\u001b[0m\u001b[1;33m:\u001b[0m \u001b[0mnew_axis\u001b[0m\u001b[1;33m}\u001b[0m\u001b[1;33m)\u001b[0m\u001b[1;33m\u001b[0m\u001b[1;33m\u001b[0m\u001b[0m\n\u001b[0;32m   3948\u001b[0m \u001b[1;33m\u001b[0m\u001b[0m\n",
      "\u001b[1;32m~\\AppData\\Local\\Continuum\\anaconda3\\lib\\site-packages\\pandas\\core\\indexes\\base.py\u001b[0m in \u001b[0;36mdrop\u001b[1;34m(self, labels, errors)\u001b[0m\n\u001b[0;32m   5338\u001b[0m         \u001b[1;32mif\u001b[0m \u001b[0mmask\u001b[0m\u001b[1;33m.\u001b[0m\u001b[0many\u001b[0m\u001b[1;33m(\u001b[0m\u001b[1;33m)\u001b[0m\u001b[1;33m:\u001b[0m\u001b[1;33m\u001b[0m\u001b[1;33m\u001b[0m\u001b[0m\n\u001b[0;32m   5339\u001b[0m             \u001b[1;32mif\u001b[0m \u001b[0merrors\u001b[0m \u001b[1;33m!=\u001b[0m \u001b[1;34m\"ignore\"\u001b[0m\u001b[1;33m:\u001b[0m\u001b[1;33m\u001b[0m\u001b[1;33m\u001b[0m\u001b[0m\n\u001b[1;32m-> 5340\u001b[1;33m                 \u001b[1;32mraise\u001b[0m \u001b[0mKeyError\u001b[0m\u001b[1;33m(\u001b[0m\u001b[1;34m\"{} not found in axis\"\u001b[0m\u001b[1;33m.\u001b[0m\u001b[0mformat\u001b[0m\u001b[1;33m(\u001b[0m\u001b[0mlabels\u001b[0m\u001b[1;33m[\u001b[0m\u001b[0mmask\u001b[0m\u001b[1;33m]\u001b[0m\u001b[1;33m)\u001b[0m\u001b[1;33m)\u001b[0m\u001b[1;33m\u001b[0m\u001b[1;33m\u001b[0m\u001b[0m\n\u001b[0m\u001b[0;32m   5341\u001b[0m             \u001b[0mindexer\u001b[0m \u001b[1;33m=\u001b[0m \u001b[0mindexer\u001b[0m\u001b[1;33m[\u001b[0m\u001b[1;33m~\u001b[0m\u001b[0mmask\u001b[0m\u001b[1;33m]\u001b[0m\u001b[1;33m\u001b[0m\u001b[1;33m\u001b[0m\u001b[0m\n\u001b[0;32m   5342\u001b[0m         \u001b[1;32mreturn\u001b[0m \u001b[0mself\u001b[0m\u001b[1;33m.\u001b[0m\u001b[0mdelete\u001b[0m\u001b[1;33m(\u001b[0m\u001b[0mindexer\u001b[0m\u001b[1;33m)\u001b[0m\u001b[1;33m\u001b[0m\u001b[1;33m\u001b[0m\u001b[0m\n",
      "\u001b[1;31mKeyError\u001b[0m: \"['city' 'shape_reported'] not found in axis\""
     ]
    }
   ],
   "source": [
    "ufo.drop(['city','shape_reported'], axis=1, inplace=True)\n",
    "ufo.head()"
   ]
  },
  {
   "cell_type": "code",
   "execution_count": 132,
   "metadata": {},
   "outputs": [
    {
     "data": {
      "text/html": "<div>\n<style scoped>\n    .dataframe tbody tr th:only-of-type {\n        vertical-align: middle;\n    }\n\n    .dataframe tbody tr th {\n        vertical-align: top;\n    }\n\n    .dataframe thead th {\n        text-align: right;\n    }\n</style>\n<table border=\"1\" class=\"dataframe\">\n  <thead>\n    <tr style=\"text-align: right;\">\n      <th></th>\n      <th>state</th>\n      <th>time</th>\n    </tr>\n  </thead>\n  <tbody>\n    <tr>\n      <td>0</td>\n      <td>NY</td>\n      <td>6/1/1930 22:00</td>\n    </tr>\n    <tr>\n      <td>1</td>\n      <td>NJ</td>\n      <td>6/30/1930 20:00</td>\n    </tr>\n    <tr>\n      <td>2</td>\n      <td>CO</td>\n      <td>2/15/1931 14:00</td>\n    </tr>\n    <tr>\n      <td>3</td>\n      <td>KS</td>\n      <td>6/1/1931 13:00</td>\n    </tr>\n    <tr>\n      <td>4</td>\n      <td>NY</td>\n      <td>4/18/1933 19:00</td>\n    </tr>\n  </tbody>\n</table>\n</div>",
      "text/plain": "  state             time\n0    NY   6/1/1930 22:00\n1    NJ  6/30/1930 20:00\n2    CO  2/15/1931 14:00\n3    KS   6/1/1931 13:00\n4    NY  4/18/1933 19:00"
     },
     "execution_count": 132,
     "metadata": {},
     "output_type": "execute_result"
    }
   ],
   "source": [
    "ufo.head()"
   ]
  },
  {
   "cell_type": "code",
   "execution_count": 133,
   "metadata": {},
   "outputs": [],
   "source": [
    "ufo.drop([0,1], axis=0, inplace=True)"
   ]
  },
  {
   "cell_type": "code",
   "execution_count": 134,
   "metadata": {},
   "outputs": [
    {
     "data": {
      "text/html": "<div>\n<style scoped>\n    .dataframe tbody tr th:only-of-type {\n        vertical-align: middle;\n    }\n\n    .dataframe tbody tr th {\n        vertical-align: top;\n    }\n\n    .dataframe thead th {\n        text-align: right;\n    }\n</style>\n<table border=\"1\" class=\"dataframe\">\n  <thead>\n    <tr style=\"text-align: right;\">\n      <th></th>\n      <th>state</th>\n      <th>time</th>\n    </tr>\n  </thead>\n  <tbody>\n    <tr>\n      <td>2</td>\n      <td>CO</td>\n      <td>2/15/1931 14:00</td>\n    </tr>\n    <tr>\n      <td>3</td>\n      <td>KS</td>\n      <td>6/1/1931 13:00</td>\n    </tr>\n    <tr>\n      <td>4</td>\n      <td>NY</td>\n      <td>4/18/1933 19:00</td>\n    </tr>\n    <tr>\n      <td>5</td>\n      <td>ND</td>\n      <td>9/15/1934 15:30</td>\n    </tr>\n    <tr>\n      <td>6</td>\n      <td>CA</td>\n      <td>6/15/1935 0:00</td>\n    </tr>\n  </tbody>\n</table>\n</div>",
      "text/plain": "  state             time\n2    CO  2/15/1931 14:00\n3    KS   6/1/1931 13:00\n4    NY  4/18/1933 19:00\n5    ND  9/15/1934 15:30\n6    CA   6/15/1935 0:00"
     },
     "execution_count": 134,
     "metadata": {},
     "output_type": "execute_result"
    }
   ],
   "source": [
    "ufo.head()"
   ]
  },
  {
   "cell_type": "code",
   "execution_count": 136,
   "metadata": {},
   "outputs": [],
   "source": [
    "ufo.drop([2,4], axis=0, inplace=True)"
   ]
  },
  {
   "cell_type": "code",
   "execution_count": 137,
   "metadata": {},
   "outputs": [
    {
     "data": {
      "text/html": "<div>\n<style scoped>\n    .dataframe tbody tr th:only-of-type {\n        vertical-align: middle;\n    }\n\n    .dataframe tbody tr th {\n        vertical-align: top;\n    }\n\n    .dataframe thead th {\n        text-align: right;\n    }\n</style>\n<table border=\"1\" class=\"dataframe\">\n  <thead>\n    <tr style=\"text-align: right;\">\n      <th></th>\n      <th>state</th>\n      <th>time</th>\n    </tr>\n  </thead>\n  <tbody>\n    <tr>\n      <td>3</td>\n      <td>KS</td>\n      <td>6/1/1931 13:00</td>\n    </tr>\n    <tr>\n      <td>5</td>\n      <td>ND</td>\n      <td>9/15/1934 15:30</td>\n    </tr>\n    <tr>\n      <td>6</td>\n      <td>CA</td>\n      <td>6/15/1935 0:00</td>\n    </tr>\n    <tr>\n      <td>7</td>\n      <td>MI</td>\n      <td>7/15/1936 0:00</td>\n    </tr>\n    <tr>\n      <td>8</td>\n      <td>AK</td>\n      <td>10/15/1936 17:00</td>\n    </tr>\n  </tbody>\n</table>\n</div>",
      "text/plain": "  state              time\n3    KS    6/1/1931 13:00\n5    ND   9/15/1934 15:30\n6    CA    6/15/1935 0:00\n7    MI    7/15/1936 0:00\n8    AK  10/15/1936 17:00"
     },
     "execution_count": 137,
     "metadata": {},
     "output_type": "execute_result"
    }
   ],
   "source": [
    "ufo.head()"
   ]
  },
  {
   "cell_type": "code",
   "execution_count": 138,
   "metadata": {},
   "outputs": [
    {
     "data": {
      "text/html": "<div>\n<style scoped>\n    .dataframe tbody tr th:only-of-type {\n        vertical-align: middle;\n    }\n\n    .dataframe tbody tr th {\n        vertical-align: top;\n    }\n\n    .dataframe thead th {\n        text-align: right;\n    }\n</style>\n<table border=\"1\" class=\"dataframe\">\n  <thead>\n    <tr style=\"text-align: right;\">\n      <th></th>\n      <th>star_rating</th>\n      <th>title</th>\n      <th>content_rating</th>\n      <th>genre</th>\n      <th>duration</th>\n      <th>actors_list</th>\n    </tr>\n  </thead>\n  <tbody>\n    <tr>\n      <td>0</td>\n      <td>9.3</td>\n      <td>The Shawshank Redemption</td>\n      <td>R</td>\n      <td>Crime</td>\n      <td>142</td>\n      <td>[u'Tim Robbins', u'Morgan Freeman', u'Bob Gunt...</td>\n    </tr>\n    <tr>\n      <td>1</td>\n      <td>9.2</td>\n      <td>The Godfather</td>\n      <td>R</td>\n      <td>Crime</td>\n      <td>175</td>\n      <td>[u'Marlon Brando', u'Al Pacino', u'James Caan']</td>\n    </tr>\n    <tr>\n      <td>2</td>\n      <td>9.1</td>\n      <td>The Godfather: Part II</td>\n      <td>R</td>\n      <td>Crime</td>\n      <td>200</td>\n      <td>[u'Al Pacino', u'Robert De Niro', u'Robert Duv...</td>\n    </tr>\n    <tr>\n      <td>3</td>\n      <td>9.0</td>\n      <td>The Dark Knight</td>\n      <td>PG-13</td>\n      <td>Action</td>\n      <td>152</td>\n      <td>[u'Christian Bale', u'Heath Ledger', u'Aaron E...</td>\n    </tr>\n    <tr>\n      <td>4</td>\n      <td>8.9</td>\n      <td>Pulp Fiction</td>\n      <td>R</td>\n      <td>Crime</td>\n      <td>154</td>\n      <td>[u'John Travolta', u'Uma Thurman', u'Samuel L....</td>\n    </tr>\n  </tbody>\n</table>\n</div>",
      "text/plain": "   star_rating                     title content_rating   genre  duration  \\\n0          9.3  The Shawshank Redemption              R   Crime       142   \n1          9.2             The Godfather              R   Crime       175   \n2          9.1    The Godfather: Part II              R   Crime       200   \n3          9.0           The Dark Knight          PG-13  Action       152   \n4          8.9              Pulp Fiction              R   Crime       154   \n\n                                         actors_list  \n0  [u'Tim Robbins', u'Morgan Freeman', u'Bob Gunt...  \n1    [u'Marlon Brando', u'Al Pacino', u'James Caan']  \n2  [u'Al Pacino', u'Robert De Niro', u'Robert Duv...  \n3  [u'Christian Bale', u'Heath Ledger', u'Aaron E...  \n4  [u'John Travolta', u'Uma Thurman', u'Samuel L....  "
     },
     "execution_count": 138,
     "metadata": {},
     "output_type": "execute_result"
    }
   ],
   "source": [
    "movies = pd.read_csv('http://bit.ly/imdbratings')\n",
    "movies.head()"
   ]
  },
  {
   "cell_type": "code",
   "execution_count": 141,
   "metadata": {},
   "outputs": [
    {
     "data": {
      "text/plain": "864                    [Rec]\n526                     Zulu\n615               Zombieland\n677                   Zodiac\n955         Zero Dark Thirty\n               ...          \n110    2001: A Space Odyssey\n698                127 Hours\n201         12 Years a Slave\n5               12 Angry Men\n542     (500) Days of Summer\nName: title, Length: 979, dtype: object"
     },
     "execution_count": 141,
     "metadata": {},
     "output_type": "execute_result"
    }
   ],
   "source": [
    "movies['title'].sort_values(ascending=False)"
   ]
  },
  {
   "cell_type": "code",
   "execution_count": 148,
   "metadata": {},
   "outputs": [],
   "source": [
    "movies.sort_values(['duration','star_rating'], ascending=False, inplace=True)"
   ]
  },
  {
   "cell_type": "code",
   "execution_count": 149,
   "metadata": {},
   "outputs": [
    {
     "data": {
      "text/html": "<div>\n<style scoped>\n    .dataframe tbody tr th:only-of-type {\n        vertical-align: middle;\n    }\n\n    .dataframe tbody tr th {\n        vertical-align: top;\n    }\n\n    .dataframe thead th {\n        text-align: right;\n    }\n</style>\n<table border=\"1\" class=\"dataframe\">\n  <thead>\n    <tr style=\"text-align: right;\">\n      <th></th>\n      <th>star_rating</th>\n      <th>title</th>\n      <th>content_rating</th>\n      <th>genre</th>\n      <th>duration</th>\n      <th>actors_list</th>\n    </tr>\n  </thead>\n  <tbody>\n    <tr>\n      <td>476</td>\n      <td>7.8</td>\n      <td>Hamlet</td>\n      <td>PG-13</td>\n      <td>Drama</td>\n      <td>242</td>\n      <td>[u'Kenneth Branagh', u'Julie Christie', u'Dere...</td>\n    </tr>\n    <tr>\n      <td>157</td>\n      <td>8.2</td>\n      <td>Gone with the Wind</td>\n      <td>G</td>\n      <td>Drama</td>\n      <td>238</td>\n      <td>[u'Clark Gable', u'Vivien Leigh', u'Thomas Mit...</td>\n    </tr>\n    <tr>\n      <td>78</td>\n      <td>8.4</td>\n      <td>Once Upon a Time in America</td>\n      <td>R</td>\n      <td>Crime</td>\n      <td>229</td>\n      <td>[u'Robert De Niro', u'James Woods', u'Elizabet...</td>\n    </tr>\n    <tr>\n      <td>142</td>\n      <td>8.3</td>\n      <td>Lagaan: Once Upon a Time in India</td>\n      <td>PG</td>\n      <td>Adventure</td>\n      <td>224</td>\n      <td>[u'Aamir Khan', u'Gracy Singh', u'Rachel Shell...</td>\n    </tr>\n    <tr>\n      <td>445</td>\n      <td>7.9</td>\n      <td>The Ten Commandments</td>\n      <td>APPROVED</td>\n      <td>Adventure</td>\n      <td>220</td>\n      <td>[u'Charlton Heston', u'Yul Brynner', u'Anne Ba...</td>\n    </tr>\n  </tbody>\n</table>\n</div>",
      "text/plain": "     star_rating                              title content_rating      genre  \\\n476          7.8                             Hamlet          PG-13      Drama   \n157          8.2                 Gone with the Wind              G      Drama   \n78           8.4        Once Upon a Time in America              R      Crime   \n142          8.3  Lagaan: Once Upon a Time in India             PG  Adventure   \n445          7.9               The Ten Commandments       APPROVED  Adventure   \n\n     duration                                        actors_list  \n476       242  [u'Kenneth Branagh', u'Julie Christie', u'Dere...  \n157       238  [u'Clark Gable', u'Vivien Leigh', u'Thomas Mit...  \n78        229  [u'Robert De Niro', u'James Woods', u'Elizabet...  \n142       224  [u'Aamir Khan', u'Gracy Singh', u'Rachel Shell...  \n445       220  [u'Charlton Heston', u'Yul Brynner', u'Anne Ba...  "
     },
     "execution_count": 149,
     "metadata": {},
     "output_type": "execute_result"
    }
   ],
   "source": [
    "movies.head()"
   ]
  },
  {
   "cell_type": "code",
   "execution_count": 150,
   "metadata": {},
   "outputs": [
    {
     "data": {
      "text/plain": "(979, 6)"
     },
     "execution_count": 150,
     "metadata": {},
     "output_type": "execute_result"
    }
   ],
   "source": [
    "movies.shape\n"
   ]
  },
  {
   "cell_type": "code",
   "execution_count": 154,
   "metadata": {},
   "outputs": [],
   "source": [
    "boolens = []\n",
    "for length in movies.duration:\n",
    "    if length >= 200:\n",
    "        boolens.append(True)\n",
    "    else:\n",
    "       boolens.append(False)\n"
   ]
  },
  {
   "cell_type": "code",
   "execution_count": 156,
   "metadata": {},
   "outputs": [
    {
     "data": {
      "text/plain": "[True, True, True, True, True]"
     },
     "execution_count": 156,
     "metadata": {},
     "output_type": "execute_result"
    }
   ],
   "source": [
    "boolens[0:5]"
   ]
  },
  {
   "cell_type": "code",
   "execution_count": 157,
   "metadata": {},
   "outputs": [
    {
     "data": {
      "text/plain": "979"
     },
     "execution_count": 157,
     "metadata": {},
     "output_type": "execute_result"
    }
   ],
   "source": [
    "len(boolens)"
   ]
  },
  {
   "cell_type": "code",
   "execution_count": 159,
   "metadata": {},
   "outputs": [],
   "source": [
    "is_long = pd.Series(boolens)"
   ]
  },
  {
   "cell_type": "code",
   "execution_count": 160,
   "metadata": {},
   "outputs": [
    {
     "data": {
      "text/plain": "0    True\n1    True\n2    True\n3    True\n4    True\ndtype: bool"
     },
     "execution_count": 160,
     "metadata": {},
     "output_type": "execute_result"
    }
   ],
   "source": [
    "is_long.head()"
   ]
  },
  {
   "cell_type": "code",
   "execution_count": 161,
   "metadata": {},
   "outputs": [
    {
     "name": "stderr",
     "output_type": "stream",
     "text": "C:\\Users\\monir.hossain\\AppData\\Local\\Continuum\\anaconda3\\lib\\site-packages\\ipykernel_launcher.py:1: UserWarning: Boolean Series key will be reindexed to match DataFrame index.\n  \"\"\"Entry point for launching an IPython kernel.\n"
    },
    {
     "data": {
      "text/html": "<div>\n<style scoped>\n    .dataframe tbody tr th:only-of-type {\n        vertical-align: middle;\n    }\n\n    .dataframe tbody tr th {\n        vertical-align: top;\n    }\n\n    .dataframe thead th {\n        text-align: right;\n    }\n</style>\n<table border=\"1\" class=\"dataframe\">\n  <thead>\n    <tr style=\"text-align: right;\">\n      <th></th>\n      <th>star_rating</th>\n      <th>title</th>\n      <th>content_rating</th>\n      <th>genre</th>\n      <th>duration</th>\n      <th>actors_list</th>\n    </tr>\n  </thead>\n  <tbody>\n    <tr>\n      <td>7</td>\n      <td>8.9</td>\n      <td>The Lord of the Rings: The Return of the King</td>\n      <td>PG-13</td>\n      <td>Adventure</td>\n      <td>201</td>\n      <td>[u'Elijah Wood', u'Viggo Mortensen', u'Ian McK...</td>\n    </tr>\n    <tr>\n      <td>2</td>\n      <td>9.1</td>\n      <td>The Godfather: Part II</td>\n      <td>R</td>\n      <td>Crime</td>\n      <td>200</td>\n      <td>[u'Al Pacino', u'Robert De Niro', u'Robert Duv...</td>\n    </tr>\n    <tr>\n      <td>8</td>\n      <td>8.9</td>\n      <td>Schindler's List</td>\n      <td>R</td>\n      <td>Biography</td>\n      <td>195</td>\n      <td>[u'Liam Neeson', u'Ralph Fiennes', u'Ben Kings...</td>\n    </tr>\n    <tr>\n      <td>10</td>\n      <td>8.8</td>\n      <td>The Lord of the Rings: The Fellowship of the Ring</td>\n      <td>PG-13</td>\n      <td>Adventure</td>\n      <td>178</td>\n      <td>[u'Elijah Wood', u'Ian McKellen', u'Orlando Bl...</td>\n    </tr>\n    <tr>\n      <td>1</td>\n      <td>9.2</td>\n      <td>The Godfather</td>\n      <td>R</td>\n      <td>Crime</td>\n      <td>175</td>\n      <td>[u'Marlon Brando', u'Al Pacino', u'James Caan']</td>\n    </tr>\n    <tr>\n      <td>6</td>\n      <td>8.9</td>\n      <td>The Good, the Bad and the Ugly</td>\n      <td>NOT RATED</td>\n      <td>Western</td>\n      <td>161</td>\n      <td>[u'Clint Eastwood', u'Eli Wallach', u'Lee Van ...</td>\n    </tr>\n    <tr>\n      <td>4</td>\n      <td>8.9</td>\n      <td>Pulp Fiction</td>\n      <td>R</td>\n      <td>Crime</td>\n      <td>154</td>\n      <td>[u'John Travolta', u'Uma Thurman', u'Samuel L....</td>\n    </tr>\n    <tr>\n      <td>3</td>\n      <td>9.0</td>\n      <td>The Dark Knight</td>\n      <td>PG-13</td>\n      <td>Action</td>\n      <td>152</td>\n      <td>[u'Christian Bale', u'Heath Ledger', u'Aaron E...</td>\n    </tr>\n    <tr>\n      <td>11</td>\n      <td>8.8</td>\n      <td>Inception</td>\n      <td>PG-13</td>\n      <td>Action</td>\n      <td>148</td>\n      <td>[u'Leonardo DiCaprio', u'Joseph Gordon-Levitt'...</td>\n    </tr>\n    <tr>\n      <td>0</td>\n      <td>9.3</td>\n      <td>The Shawshank Redemption</td>\n      <td>R</td>\n      <td>Crime</td>\n      <td>142</td>\n      <td>[u'Tim Robbins', u'Morgan Freeman', u'Bob Gunt...</td>\n    </tr>\n    <tr>\n      <td>9</td>\n      <td>8.9</td>\n      <td>Fight Club</td>\n      <td>R</td>\n      <td>Drama</td>\n      <td>139</td>\n      <td>[u'Brad Pitt', u'Edward Norton', u'Helena Bonh...</td>\n    </tr>\n    <tr>\n      <td>5</td>\n      <td>8.9</td>\n      <td>12 Angry Men</td>\n      <td>NOT RATED</td>\n      <td>Drama</td>\n      <td>96</td>\n      <td>[u'Henry Fonda', u'Lee J. Cobb', u'Martin Bals...</td>\n    </tr>\n  </tbody>\n</table>\n</div>",
      "text/plain": "    star_rating                                              title  \\\n7           8.9      The Lord of the Rings: The Return of the King   \n2           9.1                             The Godfather: Part II   \n8           8.9                                   Schindler's List   \n10          8.8  The Lord of the Rings: The Fellowship of the Ring   \n1           9.2                                      The Godfather   \n6           8.9                     The Good, the Bad and the Ugly   \n4           8.9                                       Pulp Fiction   \n3           9.0                                    The Dark Knight   \n11          8.8                                          Inception   \n0           9.3                           The Shawshank Redemption   \n9           8.9                                         Fight Club   \n5           8.9                                       12 Angry Men   \n\n   content_rating      genre  duration  \\\n7           PG-13  Adventure       201   \n2               R      Crime       200   \n8               R  Biography       195   \n10          PG-13  Adventure       178   \n1               R      Crime       175   \n6       NOT RATED    Western       161   \n4               R      Crime       154   \n3           PG-13     Action       152   \n11          PG-13     Action       148   \n0               R      Crime       142   \n9               R      Drama       139   \n5       NOT RATED      Drama        96   \n\n                                          actors_list  \n7   [u'Elijah Wood', u'Viggo Mortensen', u'Ian McK...  \n2   [u'Al Pacino', u'Robert De Niro', u'Robert Duv...  \n8   [u'Liam Neeson', u'Ralph Fiennes', u'Ben Kings...  \n10  [u'Elijah Wood', u'Ian McKellen', u'Orlando Bl...  \n1     [u'Marlon Brando', u'Al Pacino', u'James Caan']  \n6   [u'Clint Eastwood', u'Eli Wallach', u'Lee Van ...  \n4   [u'John Travolta', u'Uma Thurman', u'Samuel L....  \n3   [u'Christian Bale', u'Heath Ledger', u'Aaron E...  \n11  [u'Leonardo DiCaprio', u'Joseph Gordon-Levitt'...  \n0   [u'Tim Robbins', u'Morgan Freeman', u'Bob Gunt...  \n9   [u'Brad Pitt', u'Edward Norton', u'Helena Bonh...  \n5   [u'Henry Fonda', u'Lee J. Cobb', u'Martin Bals...  "
     },
     "execution_count": 161,
     "metadata": {},
     "output_type": "execute_result"
    }
   ],
   "source": [
    "movies[is_long]"
   ]
  },
  {
   "cell_type": "code",
   "execution_count": 162,
   "metadata": {},
   "outputs": [
    {
     "data": {
      "text/plain": "476    True\n157    True\n78     True\n142    True\n445    True\nName: duration, dtype: bool"
     },
     "execution_count": 162,
     "metadata": {},
     "output_type": "execute_result"
    }
   ],
   "source": [
    "is_long = movies.duration >= 200\n",
    "is_long.head()"
   ]
  },
  {
   "cell_type": "code",
   "execution_count": 163,
   "metadata": {},
   "outputs": [
    {
     "data": {
      "text/html": "<div>\n<style scoped>\n    .dataframe tbody tr th:only-of-type {\n        vertical-align: middle;\n    }\n\n    .dataframe tbody tr th {\n        vertical-align: top;\n    }\n\n    .dataframe thead th {\n        text-align: right;\n    }\n</style>\n<table border=\"1\" class=\"dataframe\">\n  <thead>\n    <tr style=\"text-align: right;\">\n      <th></th>\n      <th>star_rating</th>\n      <th>title</th>\n      <th>content_rating</th>\n      <th>genre</th>\n      <th>duration</th>\n      <th>actors_list</th>\n    </tr>\n  </thead>\n  <tbody>\n    <tr>\n      <td>476</td>\n      <td>7.8</td>\n      <td>Hamlet</td>\n      <td>PG-13</td>\n      <td>Drama</td>\n      <td>242</td>\n      <td>[u'Kenneth Branagh', u'Julie Christie', u'Dere...</td>\n    </tr>\n    <tr>\n      <td>157</td>\n      <td>8.2</td>\n      <td>Gone with the Wind</td>\n      <td>G</td>\n      <td>Drama</td>\n      <td>238</td>\n      <td>[u'Clark Gable', u'Vivien Leigh', u'Thomas Mit...</td>\n    </tr>\n    <tr>\n      <td>78</td>\n      <td>8.4</td>\n      <td>Once Upon a Time in America</td>\n      <td>R</td>\n      <td>Crime</td>\n      <td>229</td>\n      <td>[u'Robert De Niro', u'James Woods', u'Elizabet...</td>\n    </tr>\n    <tr>\n      <td>142</td>\n      <td>8.3</td>\n      <td>Lagaan: Once Upon a Time in India</td>\n      <td>PG</td>\n      <td>Adventure</td>\n      <td>224</td>\n      <td>[u'Aamir Khan', u'Gracy Singh', u'Rachel Shell...</td>\n    </tr>\n    <tr>\n      <td>445</td>\n      <td>7.9</td>\n      <td>The Ten Commandments</td>\n      <td>APPROVED</td>\n      <td>Adventure</td>\n      <td>220</td>\n      <td>[u'Charlton Heston', u'Yul Brynner', u'Anne Ba...</td>\n    </tr>\n    <tr>\n      <td>85</td>\n      <td>8.4</td>\n      <td>Lawrence of Arabia</td>\n      <td>PG</td>\n      <td>Adventure</td>\n      <td>216</td>\n      <td>[u\"Peter O'Toole\", u'Alec Guinness', u'Anthony...</td>\n    </tr>\n    <tr>\n      <td>204</td>\n      <td>8.1</td>\n      <td>Ben-Hur</td>\n      <td>G</td>\n      <td>Adventure</td>\n      <td>212</td>\n      <td>[u'Charlton Heston', u'Jack Hawkins', u'Stephe...</td>\n    </tr>\n    <tr>\n      <td>17</td>\n      <td>8.7</td>\n      <td>Seven Samurai</td>\n      <td>UNRATED</td>\n      <td>Drama</td>\n      <td>207</td>\n      <td>[u'Toshir\\xf4 Mifune', u'Takashi Shimura', u'K...</td>\n    </tr>\n    <tr>\n      <td>767</td>\n      <td>7.6</td>\n      <td>It's a Mad, Mad, Mad, Mad World</td>\n      <td>APPROVED</td>\n      <td>Action</td>\n      <td>205</td>\n      <td>[u'Spencer Tracy', u'Milton Berle', u'Ethel Me...</td>\n    </tr>\n    <tr>\n      <td>630</td>\n      <td>7.7</td>\n      <td>Malcolm X</td>\n      <td>PG-13</td>\n      <td>Biography</td>\n      <td>202</td>\n      <td>[u'Denzel Washington', u'Angela Bassett', u'De...</td>\n    </tr>\n    <tr>\n      <td>7</td>\n      <td>8.9</td>\n      <td>The Lord of the Rings: The Return of the King</td>\n      <td>PG-13</td>\n      <td>Adventure</td>\n      <td>201</td>\n      <td>[u'Elijah Wood', u'Viggo Mortensen', u'Ian McK...</td>\n    </tr>\n    <tr>\n      <td>2</td>\n      <td>9.1</td>\n      <td>The Godfather: Part II</td>\n      <td>R</td>\n      <td>Crime</td>\n      <td>200</td>\n      <td>[u'Al Pacino', u'Robert De Niro', u'Robert Duv...</td>\n    </tr>\n  </tbody>\n</table>\n</div>",
      "text/plain": "     star_rating                                          title  \\\n476          7.8                                         Hamlet   \n157          8.2                             Gone with the Wind   \n78           8.4                    Once Upon a Time in America   \n142          8.3              Lagaan: Once Upon a Time in India   \n445          7.9                           The Ten Commandments   \n85           8.4                             Lawrence of Arabia   \n204          8.1                                        Ben-Hur   \n17           8.7                                  Seven Samurai   \n767          7.6                It's a Mad, Mad, Mad, Mad World   \n630          7.7                                      Malcolm X   \n7            8.9  The Lord of the Rings: The Return of the King   \n2            9.1                         The Godfather: Part II   \n\n    content_rating      genre  duration  \\\n476          PG-13      Drama       242   \n157              G      Drama       238   \n78               R      Crime       229   \n142             PG  Adventure       224   \n445       APPROVED  Adventure       220   \n85              PG  Adventure       216   \n204              G  Adventure       212   \n17         UNRATED      Drama       207   \n767       APPROVED     Action       205   \n630          PG-13  Biography       202   \n7            PG-13  Adventure       201   \n2                R      Crime       200   \n\n                                           actors_list  \n476  [u'Kenneth Branagh', u'Julie Christie', u'Dere...  \n157  [u'Clark Gable', u'Vivien Leigh', u'Thomas Mit...  \n78   [u'Robert De Niro', u'James Woods', u'Elizabet...  \n142  [u'Aamir Khan', u'Gracy Singh', u'Rachel Shell...  \n445  [u'Charlton Heston', u'Yul Brynner', u'Anne Ba...  \n85   [u\"Peter O'Toole\", u'Alec Guinness', u'Anthony...  \n204  [u'Charlton Heston', u'Jack Hawkins', u'Stephe...  \n17   [u'Toshir\\xf4 Mifune', u'Takashi Shimura', u'K...  \n767  [u'Spencer Tracy', u'Milton Berle', u'Ethel Me...  \n630  [u'Denzel Washington', u'Angela Bassett', u'De...  \n7    [u'Elijah Wood', u'Viggo Mortensen', u'Ian McK...  \n2    [u'Al Pacino', u'Robert De Niro', u'Robert Duv...  "
     },
     "execution_count": 163,
     "metadata": {},
     "output_type": "execute_result"
    }
   ],
   "source": [
    "movies[is_long]"
   ]
  },
  {
   "cell_type": "code",
   "execution_count": 170,
   "metadata": {},
   "outputs": [
    {
     "data": {
      "text/plain": "476        Drama\n157        Drama\n78         Crime\n142    Adventure\n445    Adventure\n85     Adventure\n204    Adventure\n17         Drama\n767       Action\n630    Biography\n7      Adventure\n2          Crime\nName: genre, dtype: object"
     },
     "execution_count": 170,
     "metadata": {},
     "output_type": "execute_result"
    }
   ],
   "source": [
    "movies[movies.duration >= 200]['genre']"
   ]
  },
  {
   "cell_type": "code",
   "execution_count": 171,
   "metadata": {},
   "outputs": [
    {
     "data": {
      "text/plain": "476        Drama\n157        Drama\n78         Crime\n142    Adventure\n445    Adventure\n85     Adventure\n204    Adventure\n17         Drama\n767       Action\n630    Biography\n7      Adventure\n2          Crime\nName: genre, dtype: object"
     },
     "execution_count": 171,
     "metadata": {},
     "output_type": "execute_result"
    }
   ],
   "source": [
    "movies.loc[movies.duration >= 200, 'genre']"
   ]
  },
  {
   "cell_type": "code",
   "execution_count": 179,
   "metadata": {},
   "outputs": [
    {
     "data": {
      "text/html": "<div>\n<style scoped>\n    .dataframe tbody tr th:only-of-type {\n        vertical-align: middle;\n    }\n\n    .dataframe tbody tr th {\n        vertical-align: top;\n    }\n\n    .dataframe thead th {\n        text-align: right;\n    }\n</style>\n<table border=\"1\" class=\"dataframe\">\n  <thead>\n    <tr style=\"text-align: right;\">\n      <th></th>\n      <th>star_rating</th>\n      <th>title</th>\n      <th>content_rating</th>\n      <th>genre</th>\n      <th>duration</th>\n      <th>actors_list</th>\n    </tr>\n  </thead>\n  <tbody>\n    <tr>\n      <td>476</td>\n      <td>7.8</td>\n      <td>Hamlet</td>\n      <td>PG-13</td>\n      <td>Drama</td>\n      <td>242</td>\n      <td>[u'Kenneth Branagh', u'Julie Christie', u'Dere...</td>\n    </tr>\n    <tr>\n      <td>157</td>\n      <td>8.2</td>\n      <td>Gone with the Wind</td>\n      <td>G</td>\n      <td>Drama</td>\n      <td>238</td>\n      <td>[u'Clark Gable', u'Vivien Leigh', u'Thomas Mit...</td>\n    </tr>\n    <tr>\n      <td>78</td>\n      <td>8.4</td>\n      <td>Once Upon a Time in America</td>\n      <td>R</td>\n      <td>Crime</td>\n      <td>229</td>\n      <td>[u'Robert De Niro', u'James Woods', u'Elizabet...</td>\n    </tr>\n    <tr>\n      <td>142</td>\n      <td>8.3</td>\n      <td>Lagaan: Once Upon a Time in India</td>\n      <td>PG</td>\n      <td>Adventure</td>\n      <td>224</td>\n      <td>[u'Aamir Khan', u'Gracy Singh', u'Rachel Shell...</td>\n    </tr>\n    <tr>\n      <td>445</td>\n      <td>7.9</td>\n      <td>The Ten Commandments</td>\n      <td>APPROVED</td>\n      <td>Adventure</td>\n      <td>220</td>\n      <td>[u'Charlton Heston', u'Yul Brynner', u'Anne Ba...</td>\n    </tr>\n    <tr>\n      <td>...</td>\n      <td>...</td>\n      <td>...</td>\n      <td>...</td>\n      <td>...</td>\n      <td>...</td>\n      <td>...</td>\n    </tr>\n    <tr>\n      <td>283</td>\n      <td>8.1</td>\n      <td>Before Sunset</td>\n      <td>R</td>\n      <td>Drama</td>\n      <td>80</td>\n      <td>[u'Ethan Hawke', u'Julie Delpy', u'Vernon Dobt...</td>\n    </tr>\n    <tr>\n      <td>297</td>\n      <td>8.0</td>\n      <td>Rope</td>\n      <td>PG</td>\n      <td>Crime</td>\n      <td>80</td>\n      <td>[u'James Stewart', u'John Dall', u'Farley Gran...</td>\n    </tr>\n    <tr>\n      <td>533</td>\n      <td>7.8</td>\n      <td>Run Lola Run</td>\n      <td>R</td>\n      <td>Action</td>\n      <td>80</td>\n      <td>[u'Franka Potente', u'Moritz Bleibtreu', u'Her...</td>\n    </tr>\n    <tr>\n      <td>258</td>\n      <td>8.1</td>\n      <td>The Cabinet of Dr. Caligari</td>\n      <td>UNRATED</td>\n      <td>Crime</td>\n      <td>67</td>\n      <td>[u'Werner Krauss', u'Conrad Veidt', u'Friedric...</td>\n    </tr>\n    <tr>\n      <td>389</td>\n      <td>8.0</td>\n      <td>Freaks</td>\n      <td>UNRATED</td>\n      <td>Drama</td>\n      <td>64</td>\n      <td>[u'Wallace Ford', u'Leila Hyams', u'Olga Bacla...</td>\n    </tr>\n  </tbody>\n</table>\n<p>544 rows × 6 columns</p>\n</div>",
      "text/plain": "     star_rating                              title content_rating      genre  \\\n476          7.8                             Hamlet          PG-13      Drama   \n157          8.2                 Gone with the Wind              G      Drama   \n78           8.4        Once Upon a Time in America              R      Crime   \n142          8.3  Lagaan: Once Upon a Time in India             PG  Adventure   \n445          7.9               The Ten Commandments       APPROVED  Adventure   \n..           ...                                ...            ...        ...   \n283          8.1                      Before Sunset              R      Drama   \n297          8.0                               Rope             PG      Crime   \n533          7.8                       Run Lola Run              R     Action   \n258          8.1        The Cabinet of Dr. Caligari        UNRATED      Crime   \n389          8.0                             Freaks        UNRATED      Drama   \n\n     duration                                        actors_list  \n476       242  [u'Kenneth Branagh', u'Julie Christie', u'Dere...  \n157       238  [u'Clark Gable', u'Vivien Leigh', u'Thomas Mit...  \n78        229  [u'Robert De Niro', u'James Woods', u'Elizabet...  \n142       224  [u'Aamir Khan', u'Gracy Singh', u'Rachel Shell...  \n445       220  [u'Charlton Heston', u'Yul Brynner', u'Anne Ba...  \n..        ...                                                ...  \n283        80  [u'Ethan Hawke', u'Julie Delpy', u'Vernon Dobt...  \n297        80  [u'James Stewart', u'John Dall', u'Farley Gran...  \n533        80  [u'Franka Potente', u'Moritz Bleibtreu', u'Her...  \n258        67  [u'Werner Krauss', u'Conrad Veidt', u'Friedric...  \n389        64  [u'Wallace Ford', u'Leila Hyams', u'Olga Bacla...  \n\n[544 rows x 6 columns]"
     },
     "execution_count": 179,
     "metadata": {},
     "output_type": "execute_result"
    }
   ],
   "source": [
    "movies[(movies.duration >= 200) | (movies.genre.isin(['Drama','Crime', 'Action']))]"
   ]
  },
  {
   "cell_type": "code",
   "execution_count": 183,
   "metadata": {},
   "outputs": [
    {
     "data": {
      "text/html": "<div>\n<style scoped>\n    .dataframe tbody tr th:only-of-type {\n        vertical-align: middle;\n    }\n\n    .dataframe tbody tr th {\n        vertical-align: top;\n    }\n\n    .dataframe thead th {\n        text-align: right;\n    }\n</style>\n<table border=\"1\" class=\"dataframe\">\n  <thead>\n    <tr style=\"text-align: right;\">\n      <th></th>\n      <th>City</th>\n      <th>Time</th>\n    </tr>\n  </thead>\n  <tbody>\n    <tr>\n      <td>0</td>\n      <td>Ithaca</td>\n      <td>6/1/1930 22:00</td>\n    </tr>\n    <tr>\n      <td>1</td>\n      <td>Willingboro</td>\n      <td>6/30/1930 20:00</td>\n    </tr>\n    <tr>\n      <td>2</td>\n      <td>Holyoke</td>\n      <td>2/15/1931 14:00</td>\n    </tr>\n    <tr>\n      <td>3</td>\n      <td>Abilene</td>\n      <td>6/1/1931 13:00</td>\n    </tr>\n    <tr>\n      <td>4</td>\n      <td>New York Worlds Fair</td>\n      <td>4/18/1933 19:00</td>\n    </tr>\n    <tr>\n      <td>5</td>\n      <td>Valley City</td>\n      <td>9/15/1934 15:30</td>\n    </tr>\n    <tr>\n      <td>6</td>\n      <td>Crater Lake</td>\n      <td>6/15/1935 0:00</td>\n    </tr>\n    <tr>\n      <td>7</td>\n      <td>Alma</td>\n      <td>7/15/1936 0:00</td>\n    </tr>\n    <tr>\n      <td>8</td>\n      <td>Eklutna</td>\n      <td>10/15/1936 17:00</td>\n    </tr>\n    <tr>\n      <td>9</td>\n      <td>Hubbard</td>\n      <td>6/15/1937 0:00</td>\n    </tr>\n  </tbody>\n</table>\n</div>",
      "text/plain": "                   City              Time\n0                Ithaca    6/1/1930 22:00\n1           Willingboro   6/30/1930 20:00\n2               Holyoke   2/15/1931 14:00\n3               Abilene    6/1/1931 13:00\n4  New York Worlds Fair   4/18/1933 19:00\n5           Valley City   9/15/1934 15:30\n6           Crater Lake    6/15/1935 0:00\n7                  Alma    7/15/1936 0:00\n8               Eklutna  10/15/1936 17:00\n9               Hubbard    6/15/1937 0:00"
     },
     "execution_count": 183,
     "metadata": {},
     "output_type": "execute_result"
    }
   ],
   "source": [
    "ufo = pd.read_csv('http://bit.ly/uforeports', usecols=['City', 'Time'], nrows=10)\n",
    "ufo"
   ]
  },
  {
   "cell_type": "code",
   "execution_count": 184,
   "metadata": {},
   "outputs": [
    {
     "name": "stdout",
     "output_type": "stream",
     "text": "Ithaca\nWillingboro\nHolyoke\nAbilene\nNew York Worlds Fair\nValley City\nCrater Lake\nAlma\nEklutna\nHubbard\n"
    }
   ],
   "source": [
    "for c in ufo.City:\n",
    "    print(c)"
   ]
  },
  {
   "cell_type": "code",
   "execution_count": 189,
   "metadata": {},
   "outputs": [
    {
     "name": "stdout",
     "output_type": "stream",
     "text": "0 Ithaca 6/1/1930 22:00\n1 Willingboro 6/30/1930 20:00\n2 Holyoke 2/15/1931 14:00\n3 Abilene 6/1/1931 13:00\n4 New York Worlds Fair 4/18/1933 19:00\n5 Valley City 9/15/1934 15:30\n6 Crater Lake 6/15/1935 0:00\n7 Alma 7/15/1936 0:00\n8 Eklutna 10/15/1936 17:00\n9 Hubbard 6/15/1937 0:00\n"
    }
   ],
   "source": [
    "for index, row in ufo.iterrows():\n",
    "    print(index, row.City, row.Time)"
   ]
  },
  {
   "cell_type": "code",
   "execution_count": 191,
   "metadata": {},
   "outputs": [
    {
     "data": {
      "text/html": "<div>\n<style scoped>\n    .dataframe tbody tr th:only-of-type {\n        vertical-align: middle;\n    }\n\n    .dataframe tbody tr th {\n        vertical-align: top;\n    }\n\n    .dataframe thead th {\n        text-align: right;\n    }\n</style>\n<table border=\"1\" class=\"dataframe\">\n  <thead>\n    <tr style=\"text-align: right;\">\n      <th></th>\n      <th>country</th>\n      <th>beer_servings</th>\n      <th>spirit_servings</th>\n      <th>wine_servings</th>\n      <th>total_litres_of_pure_alcohol</th>\n      <th>continent</th>\n    </tr>\n  </thead>\n  <tbody>\n    <tr>\n      <td>0</td>\n      <td>Afghanistan</td>\n      <td>0</td>\n      <td>0</td>\n      <td>0</td>\n      <td>0.0</td>\n      <td>Asia</td>\n    </tr>\n    <tr>\n      <td>1</td>\n      <td>Albania</td>\n      <td>89</td>\n      <td>132</td>\n      <td>54</td>\n      <td>4.9</td>\n      <td>Europe</td>\n    </tr>\n    <tr>\n      <td>2</td>\n      <td>Algeria</td>\n      <td>25</td>\n      <td>0</td>\n      <td>14</td>\n      <td>0.7</td>\n      <td>Africa</td>\n    </tr>\n    <tr>\n      <td>3</td>\n      <td>Andorra</td>\n      <td>245</td>\n      <td>138</td>\n      <td>312</td>\n      <td>12.4</td>\n      <td>Europe</td>\n    </tr>\n    <tr>\n      <td>4</td>\n      <td>Angola</td>\n      <td>217</td>\n      <td>57</td>\n      <td>45</td>\n      <td>5.9</td>\n      <td>Africa</td>\n    </tr>\n    <tr>\n      <td>...</td>\n      <td>...</td>\n      <td>...</td>\n      <td>...</td>\n      <td>...</td>\n      <td>...</td>\n      <td>...</td>\n    </tr>\n    <tr>\n      <td>188</td>\n      <td>Venezuela</td>\n      <td>333</td>\n      <td>100</td>\n      <td>3</td>\n      <td>7.7</td>\n      <td>South America</td>\n    </tr>\n    <tr>\n      <td>189</td>\n      <td>Vietnam</td>\n      <td>111</td>\n      <td>2</td>\n      <td>1</td>\n      <td>2.0</td>\n      <td>Asia</td>\n    </tr>\n    <tr>\n      <td>190</td>\n      <td>Yemen</td>\n      <td>6</td>\n      <td>0</td>\n      <td>0</td>\n      <td>0.1</td>\n      <td>Asia</td>\n    </tr>\n    <tr>\n      <td>191</td>\n      <td>Zambia</td>\n      <td>32</td>\n      <td>19</td>\n      <td>4</td>\n      <td>2.5</td>\n      <td>Africa</td>\n    </tr>\n    <tr>\n      <td>192</td>\n      <td>Zimbabwe</td>\n      <td>64</td>\n      <td>18</td>\n      <td>4</td>\n      <td>4.7</td>\n      <td>Africa</td>\n    </tr>\n  </tbody>\n</table>\n<p>193 rows × 6 columns</p>\n</div>",
      "text/plain": "         country  beer_servings  spirit_servings  wine_servings  \\\n0    Afghanistan              0                0              0   \n1        Albania             89              132             54   \n2        Algeria             25                0             14   \n3        Andorra            245              138            312   \n4         Angola            217               57             45   \n..           ...            ...              ...            ...   \n188    Venezuela            333              100              3   \n189      Vietnam            111                2              1   \n190        Yemen              6                0              0   \n191       Zambia             32               19              4   \n192     Zimbabwe             64               18              4   \n\n     total_litres_of_pure_alcohol      continent  \n0                             0.0           Asia  \n1                             4.9         Europe  \n2                             0.7         Africa  \n3                            12.4         Europe  \n4                             5.9         Africa  \n..                            ...            ...  \n188                           7.7  South America  \n189                           2.0           Asia  \n190                           0.1           Asia  \n191                           2.5         Africa  \n192                           4.7         Africa  \n\n[193 rows x 6 columns]"
     },
     "execution_count": 191,
     "metadata": {},
     "output_type": "execute_result"
    }
   ],
   "source": [
    "drinks = pd.read_csv('http://bit.ly/drinksbycountry')\n",
    "drinks"
   ]
  },
  {
   "cell_type": "code",
   "execution_count": 192,
   "metadata": {},
   "outputs": [
    {
     "data": {
      "text/plain": "country                          object\nbeer_servings                     int64\nspirit_servings                   int64\nwine_servings                     int64\ntotal_litres_of_pure_alcohol    float64\ncontinent                        object\ndtype: object"
     },
     "execution_count": 192,
     "metadata": {},
     "output_type": "execute_result"
    }
   ],
   "source": [
    "drinks.dtypes"
   ]
  },
  {
   "cell_type": "code",
   "execution_count": 194,
   "metadata": {},
   "outputs": [
    {
     "data": {
      "text/plain": "beer_servings                     int64\nspirit_servings                   int64\nwine_servings                     int64\ntotal_litres_of_pure_alcohol    float64\ndtype: object"
     },
     "execution_count": 194,
     "metadata": {},
     "output_type": "execute_result"
    }
   ],
   "source": [
    "import numpy as np\n",
    "drinks.select_dtypes(include=[np.number]).dtypes"
   ]
  },
  {
   "cell_type": "code",
   "execution_count": 201,
   "metadata": {},
   "outputs": [
    {
     "data": {
      "text/plain": "beer_servings                     int64\nspirit_servings                   int64\nwine_servings                     int64\ntotal_litres_of_pure_alcohol    float64\ndtype: object"
     },
     "execution_count": 201,
     "metadata": {},
     "output_type": "execute_result"
    }
   ],
   "source": [
    "drinks.select_dtypes(include=['int64','float64']).dtypes"
   ]
  },
  {
   "cell_type": "code",
   "execution_count": 202,
   "metadata": {},
   "outputs": [
    {
     "data": {
      "text/html": "<div>\n<style scoped>\n    .dataframe tbody tr th:only-of-type {\n        vertical-align: middle;\n    }\n\n    .dataframe tbody tr th {\n        vertical-align: top;\n    }\n\n    .dataframe thead th {\n        text-align: right;\n    }\n</style>\n<table border=\"1\" class=\"dataframe\">\n  <thead>\n    <tr style=\"text-align: right;\">\n      <th></th>\n      <th>country</th>\n      <th>beer_servings</th>\n      <th>spirit_servings</th>\n      <th>wine_servings</th>\n      <th>total_litres_of_pure_alcohol</th>\n      <th>continent</th>\n    </tr>\n  </thead>\n  <tbody>\n    <tr>\n      <td>0</td>\n      <td>Afghanistan</td>\n      <td>0</td>\n      <td>0</td>\n      <td>0</td>\n      <td>0.0</td>\n      <td>Asia</td>\n    </tr>\n    <tr>\n      <td>1</td>\n      <td>Albania</td>\n      <td>89</td>\n      <td>132</td>\n      <td>54</td>\n      <td>4.9</td>\n      <td>Europe</td>\n    </tr>\n    <tr>\n      <td>2</td>\n      <td>Algeria</td>\n      <td>25</td>\n      <td>0</td>\n      <td>14</td>\n      <td>0.7</td>\n      <td>Africa</td>\n    </tr>\n    <tr>\n      <td>3</td>\n      <td>Andorra</td>\n      <td>245</td>\n      <td>138</td>\n      <td>312</td>\n      <td>12.4</td>\n      <td>Europe</td>\n    </tr>\n    <tr>\n      <td>4</td>\n      <td>Angola</td>\n      <td>217</td>\n      <td>57</td>\n      <td>45</td>\n      <td>5.9</td>\n      <td>Africa</td>\n    </tr>\n  </tbody>\n</table>\n</div>",
      "text/plain": "       country  beer_servings  spirit_servings  wine_servings  \\\n0  Afghanistan              0                0              0   \n1      Albania             89              132             54   \n2      Algeria             25                0             14   \n3      Andorra            245              138            312   \n4       Angola            217               57             45   \n\n   total_litres_of_pure_alcohol continent  \n0                           0.0      Asia  \n1                           4.9    Europe  \n2                           0.7    Africa  \n3                          12.4    Europe  \n4                           5.9    Africa  "
     },
     "execution_count": 202,
     "metadata": {},
     "output_type": "execute_result"
    }
   ],
   "source": [
    "drinks.head()"
   ]
  },
  {
   "cell_type": "code",
   "execution_count": 204,
   "metadata": {},
   "outputs": [
    {
     "data": {
      "text/html": "<div>\n<style scoped>\n    .dataframe tbody tr th:only-of-type {\n        vertical-align: middle;\n    }\n\n    .dataframe tbody tr th {\n        vertical-align: top;\n    }\n\n    .dataframe thead th {\n        text-align: right;\n    }\n</style>\n<table border=\"1\" class=\"dataframe\">\n  <thead>\n    <tr style=\"text-align: right;\">\n      <th></th>\n      <th>country</th>\n      <th>beer_servings</th>\n      <th>spirit_servings</th>\n      <th>wine_servings</th>\n      <th>total_litres_of_pure_alcohol</th>\n    </tr>\n  </thead>\n  <tbody>\n    <tr>\n      <td>0</td>\n      <td>Afghanistan</td>\n      <td>0</td>\n      <td>0</td>\n      <td>0</td>\n      <td>0.0</td>\n    </tr>\n    <tr>\n      <td>1</td>\n      <td>Albania</td>\n      <td>89</td>\n      <td>132</td>\n      <td>54</td>\n      <td>4.9</td>\n    </tr>\n    <tr>\n      <td>2</td>\n      <td>Algeria</td>\n      <td>25</td>\n      <td>0</td>\n      <td>14</td>\n      <td>0.7</td>\n    </tr>\n    <tr>\n      <td>3</td>\n      <td>Andorra</td>\n      <td>245</td>\n      <td>138</td>\n      <td>312</td>\n      <td>12.4</td>\n    </tr>\n    <tr>\n      <td>4</td>\n      <td>Angola</td>\n      <td>217</td>\n      <td>57</td>\n      <td>45</td>\n      <td>5.9</td>\n    </tr>\n  </tbody>\n</table>\n</div>",
      "text/plain": "       country  beer_servings  spirit_servings  wine_servings  \\\n0  Afghanistan              0                0              0   \n1      Albania             89              132             54   \n2      Algeria             25                0             14   \n3      Andorra            245              138            312   \n4       Angola            217               57             45   \n\n   total_litres_of_pure_alcohol  \n0                           0.0  \n1                           4.9  \n2                           0.7  \n3                          12.4  \n4                           5.9  "
     },
     "execution_count": 204,
     "metadata": {},
     "output_type": "execute_result"
    }
   ],
   "source": [
    "drinks.drop('continent', axis=1).head()"
   ]
  },
  {
   "cell_type": "code",
   "execution_count": 205,
   "metadata": {},
   "outputs": [
    {
     "data": {
      "text/html": "<div>\n<style scoped>\n    .dataframe tbody tr th:only-of-type {\n        vertical-align: middle;\n    }\n\n    .dataframe tbody tr th {\n        vertical-align: top;\n    }\n\n    .dataframe thead th {\n        text-align: right;\n    }\n</style>\n<table border=\"1\" class=\"dataframe\">\n  <thead>\n    <tr style=\"text-align: right;\">\n      <th></th>\n      <th>country</th>\n      <th>beer_servings</th>\n      <th>spirit_servings</th>\n      <th>wine_servings</th>\n      <th>total_litres_of_pure_alcohol</th>\n      <th>continent</th>\n    </tr>\n  </thead>\n  <tbody>\n    <tr>\n      <td>0</td>\n      <td>Afghanistan</td>\n      <td>0</td>\n      <td>0</td>\n      <td>0</td>\n      <td>0.0</td>\n      <td>Asia</td>\n    </tr>\n    <tr>\n      <td>1</td>\n      <td>Albania</td>\n      <td>89</td>\n      <td>132</td>\n      <td>54</td>\n      <td>4.9</td>\n      <td>Europe</td>\n    </tr>\n    <tr>\n      <td>3</td>\n      <td>Andorra</td>\n      <td>245</td>\n      <td>138</td>\n      <td>312</td>\n      <td>12.4</td>\n      <td>Europe</td>\n    </tr>\n    <tr>\n      <td>4</td>\n      <td>Angola</td>\n      <td>217</td>\n      <td>57</td>\n      <td>45</td>\n      <td>5.9</td>\n      <td>Africa</td>\n    </tr>\n    <tr>\n      <td>5</td>\n      <td>Antigua &amp; Barbuda</td>\n      <td>102</td>\n      <td>128</td>\n      <td>45</td>\n      <td>4.9</td>\n      <td>North America</td>\n    </tr>\n  </tbody>\n</table>\n</div>",
      "text/plain": "             country  beer_servings  spirit_servings  wine_servings  \\\n0        Afghanistan              0                0              0   \n1            Albania             89              132             54   \n3            Andorra            245              138            312   \n4             Angola            217               57             45   \n5  Antigua & Barbuda            102              128             45   \n\n   total_litres_of_pure_alcohol      continent  \n0                           0.0           Asia  \n1                           4.9         Europe  \n3                          12.4         Europe  \n4                           5.9         Africa  \n5                           4.9  North America  "
     },
     "execution_count": 205,
     "metadata": {},
     "output_type": "execute_result"
    }
   ],
   "source": [
    "drinks.drop(2, axis=0).head()"
   ]
  },
  {
   "cell_type": "code",
   "execution_count": 206,
   "metadata": {},
   "outputs": [
    {
     "data": {
      "text/plain": "beer_servings                   106.160622\nspirit_servings                  80.994819\nwine_servings                    49.450777\ntotal_litres_of_pure_alcohol      4.717098\ndtype: float64"
     },
     "execution_count": 206,
     "metadata": {},
     "output_type": "execute_result"
    }
   ],
   "source": [
    "drinks.mean()"
   ]
  },
  {
   "cell_type": "code",
   "execution_count": 207,
   "metadata": {},
   "outputs": [
    {
     "data": {
      "text/html": "<div>\n<style scoped>\n    .dataframe tbody tr th:only-of-type {\n        vertical-align: middle;\n    }\n\n    .dataframe tbody tr th {\n        vertical-align: top;\n    }\n\n    .dataframe thead th {\n        text-align: right;\n    }\n</style>\n<table border=\"1\" class=\"dataframe\">\n  <thead>\n    <tr style=\"text-align: right;\">\n      <th></th>\n      <th>beer_servings</th>\n      <th>spirit_servings</th>\n      <th>wine_servings</th>\n      <th>total_litres_of_pure_alcohol</th>\n    </tr>\n  </thead>\n  <tbody>\n    <tr>\n      <td>count</td>\n      <td>193.000000</td>\n      <td>193.000000</td>\n      <td>193.000000</td>\n      <td>193.000000</td>\n    </tr>\n    <tr>\n      <td>mean</td>\n      <td>106.160622</td>\n      <td>80.994819</td>\n      <td>49.450777</td>\n      <td>4.717098</td>\n    </tr>\n    <tr>\n      <td>std</td>\n      <td>101.143103</td>\n      <td>88.284312</td>\n      <td>79.697598</td>\n      <td>3.773298</td>\n    </tr>\n    <tr>\n      <td>min</td>\n      <td>0.000000</td>\n      <td>0.000000</td>\n      <td>0.000000</td>\n      <td>0.000000</td>\n    </tr>\n    <tr>\n      <td>25%</td>\n      <td>20.000000</td>\n      <td>4.000000</td>\n      <td>1.000000</td>\n      <td>1.300000</td>\n    </tr>\n    <tr>\n      <td>50%</td>\n      <td>76.000000</td>\n      <td>56.000000</td>\n      <td>8.000000</td>\n      <td>4.200000</td>\n    </tr>\n    <tr>\n      <td>75%</td>\n      <td>188.000000</td>\n      <td>128.000000</td>\n      <td>59.000000</td>\n      <td>7.200000</td>\n    </tr>\n    <tr>\n      <td>max</td>\n      <td>376.000000</td>\n      <td>438.000000</td>\n      <td>370.000000</td>\n      <td>14.400000</td>\n    </tr>\n  </tbody>\n</table>\n</div>",
      "text/plain": "       beer_servings  spirit_servings  wine_servings  \\\ncount     193.000000       193.000000     193.000000   \nmean      106.160622        80.994819      49.450777   \nstd       101.143103        88.284312      79.697598   \nmin         0.000000         0.000000       0.000000   \n25%        20.000000         4.000000       1.000000   \n50%        76.000000        56.000000       8.000000   \n75%       188.000000       128.000000      59.000000   \nmax       376.000000       438.000000     370.000000   \n\n       total_litres_of_pure_alcohol  \ncount                    193.000000  \nmean                       4.717098  \nstd                        3.773298  \nmin                        0.000000  \n25%                        1.300000  \n50%                        4.200000  \n75%                        7.200000  \nmax                       14.400000  "
     },
     "execution_count": 207,
     "metadata": {},
     "output_type": "execute_result"
    }
   ],
   "source": [
    "drinks.describe()"
   ]
  },
  {
   "cell_type": "code",
   "execution_count": 211,
   "metadata": {},
   "outputs": [
    {
     "data": {
      "text/plain": "0      0.000\n1     69.975\n2      9.925\n3    176.850\n4     81.225\ndtype: float64"
     },
     "execution_count": 211,
     "metadata": {},
     "output_type": "execute_result"
    }
   ],
   "source": [
    "drinks.mean(axis=1).head()"
   ]
  },
  {
   "cell_type": "code",
   "execution_count": 213,
   "metadata": {},
   "outputs": [],
   "source": [
    "drinks['allmin'] = drinks.mean(axis=1)"
   ]
  },
  {
   "cell_type": "code",
   "execution_count": 214,
   "metadata": {},
   "outputs": [
    {
     "data": {
      "text/html": "<div>\n<style scoped>\n    .dataframe tbody tr th:only-of-type {\n        vertical-align: middle;\n    }\n\n    .dataframe tbody tr th {\n        vertical-align: top;\n    }\n\n    .dataframe thead th {\n        text-align: right;\n    }\n</style>\n<table border=\"1\" class=\"dataframe\">\n  <thead>\n    <tr style=\"text-align: right;\">\n      <th></th>\n      <th>country</th>\n      <th>beer_servings</th>\n      <th>spirit_servings</th>\n      <th>wine_servings</th>\n      <th>total_litres_of_pure_alcohol</th>\n      <th>continent</th>\n      <th>allmin</th>\n    </tr>\n  </thead>\n  <tbody>\n    <tr>\n      <td>0</td>\n      <td>Afghanistan</td>\n      <td>0</td>\n      <td>0</td>\n      <td>0</td>\n      <td>0.0</td>\n      <td>Asia</td>\n      <td>0.000</td>\n    </tr>\n    <tr>\n      <td>1</td>\n      <td>Albania</td>\n      <td>89</td>\n      <td>132</td>\n      <td>54</td>\n      <td>4.9</td>\n      <td>Europe</td>\n      <td>69.975</td>\n    </tr>\n    <tr>\n      <td>2</td>\n      <td>Algeria</td>\n      <td>25</td>\n      <td>0</td>\n      <td>14</td>\n      <td>0.7</td>\n      <td>Africa</td>\n      <td>9.925</td>\n    </tr>\n    <tr>\n      <td>3</td>\n      <td>Andorra</td>\n      <td>245</td>\n      <td>138</td>\n      <td>312</td>\n      <td>12.4</td>\n      <td>Europe</td>\n      <td>176.850</td>\n    </tr>\n    <tr>\n      <td>4</td>\n      <td>Angola</td>\n      <td>217</td>\n      <td>57</td>\n      <td>45</td>\n      <td>5.9</td>\n      <td>Africa</td>\n      <td>81.225</td>\n    </tr>\n    <tr>\n      <td>...</td>\n      <td>...</td>\n      <td>...</td>\n      <td>...</td>\n      <td>...</td>\n      <td>...</td>\n      <td>...</td>\n      <td>...</td>\n    </tr>\n    <tr>\n      <td>188</td>\n      <td>Venezuela</td>\n      <td>333</td>\n      <td>100</td>\n      <td>3</td>\n      <td>7.7</td>\n      <td>South America</td>\n      <td>110.925</td>\n    </tr>\n    <tr>\n      <td>189</td>\n      <td>Vietnam</td>\n      <td>111</td>\n      <td>2</td>\n      <td>1</td>\n      <td>2.0</td>\n      <td>Asia</td>\n      <td>29.000</td>\n    </tr>\n    <tr>\n      <td>190</td>\n      <td>Yemen</td>\n      <td>6</td>\n      <td>0</td>\n      <td>0</td>\n      <td>0.1</td>\n      <td>Asia</td>\n      <td>1.525</td>\n    </tr>\n    <tr>\n      <td>191</td>\n      <td>Zambia</td>\n      <td>32</td>\n      <td>19</td>\n      <td>4</td>\n      <td>2.5</td>\n      <td>Africa</td>\n      <td>14.375</td>\n    </tr>\n    <tr>\n      <td>192</td>\n      <td>Zimbabwe</td>\n      <td>64</td>\n      <td>18</td>\n      <td>4</td>\n      <td>4.7</td>\n      <td>Africa</td>\n      <td>22.675</td>\n    </tr>\n  </tbody>\n</table>\n<p>193 rows × 7 columns</p>\n</div>",
      "text/plain": "         country  beer_servings  spirit_servings  wine_servings  \\\n0    Afghanistan              0                0              0   \n1        Albania             89              132             54   \n2        Algeria             25                0             14   \n3        Andorra            245              138            312   \n4         Angola            217               57             45   \n..           ...            ...              ...            ...   \n188    Venezuela            333              100              3   \n189      Vietnam            111                2              1   \n190        Yemen              6                0              0   \n191       Zambia             32               19              4   \n192     Zimbabwe             64               18              4   \n\n     total_litres_of_pure_alcohol      continent   allmin  \n0                             0.0           Asia    0.000  \n1                             4.9         Europe   69.975  \n2                             0.7         Africa    9.925  \n3                            12.4         Europe  176.850  \n4                             5.9         Africa   81.225  \n..                            ...            ...      ...  \n188                           7.7  South America  110.925  \n189                           2.0           Asia   29.000  \n190                           0.1           Asia    1.525  \n191                           2.5         Africa   14.375  \n192                           4.7         Africa   22.675  \n\n[193 rows x 7 columns]"
     },
     "execution_count": 214,
     "metadata": {},
     "output_type": "execute_result"
    }
   ],
   "source": [
    "drinks"
   ]
  },
  {
   "cell_type": "code",
   "execution_count": null,
   "metadata": {},
   "outputs": [],
   "source": []
  },
  {
   "cell_type": "code",
   "execution_count": null,
   "metadata": {},
   "outputs": [],
   "source": []
  },
  {
   "cell_type": "code",
   "execution_count": null,
   "metadata": {},
   "outputs": [],
   "source": []
  },
  {
   "cell_type": "code",
   "execution_count": null,
   "metadata": {},
   "outputs": [],
   "source": []
  },
  {
   "cell_type": "code",
   "execution_count": null,
   "metadata": {},
   "outputs": [],
   "source": []
  },
  {
   "cell_type": "code",
   "execution_count": null,
   "metadata": {},
   "outputs": [],
   "source": []
  },
  {
   "cell_type": "code",
   "execution_count": null,
   "metadata": {},
   "outputs": [],
   "source": []
  },
  {
   "cell_type": "code",
   "execution_count": null,
   "metadata": {},
   "outputs": [],
   "source": []
  },
  {
   "cell_type": "code",
   "execution_count": null,
   "metadata": {},
   "outputs": [],
   "source": []
  },
  {
   "cell_type": "code",
   "execution_count": null,
   "metadata": {},
   "outputs": [],
   "source": []
  },
  {
   "cell_type": "code",
   "execution_count": null,
   "metadata": {},
   "outputs": [],
   "source": []
  },
  {
   "cell_type": "code",
   "execution_count": null,
   "metadata": {},
   "outputs": [],
   "source": []
  }
 ]
}